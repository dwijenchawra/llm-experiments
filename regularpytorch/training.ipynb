{
  "cells": [
    {
      "cell_type": "markdown",
      "metadata": {
        "id": "Ihz-r9tlmIse"
      },
      "source": [
        "## Prepare a dataset"
      ]
    },
    {
      "cell_type": "markdown",
      "metadata": {
        "id": "yt2zbgxvmIsf"
      },
      "source": [
        "Before you can fine-tune a pretrained model, download a dataset and prepare it for training. The previous tutorial showed you how to process data for training, and now you get an opportunity to put those skills to the test!\n",
        "\n",
        "Begin by loading the [Yelp Reviews](https://huggingface.co/datasets/yelp_review_full) dataset:"
      ]
    },
    {
      "cell_type": "code",
      "execution_count": 3,
      "metadata": {
        "id": "QeMhjvInmIsg",
        "outputId": "432c1b8a-0fdc-43a2-ef4a-f78b1dcbea54"
      },
      "outputs": [
        {
          "name": "stderr",
          "output_type": "stream",
          "text": [
            "Found cached dataset yelp_review_full (/home/dchawra/.cache/huggingface/datasets/yelp_review_full/yelp_review_full/1.0.0/e8e18e19d7be9e75642fc66b198abadb116f73599ec89a69ba5dd8d1e57ba0bf)\n",
            "100%|██████████| 2/2 [00:00<00:00, 246.50it/s]\n"
          ]
        },
        {
          "data": {
            "text/plain": [
              "{'label': 0,\n",
              " 'text': 'My expectations for McDonalds are t rarely high. But for one to still fail so spectacularly...that takes something special!\\\\nThe cashier took my friends\\'s order, then promptly ignored me. I had to force myself in front of a cashier who opened his register to wait on the person BEHIND me. I waited over five minutes for a gigantic order that included precisely one kid\\'s meal. After watching two people who ordered after me be handed their food, I asked where mine was. The manager started yelling at the cashiers for \\\\\"serving off their orders\\\\\" when they didn\\'t have their food. But neither cashier was anywhere near those controls, and the manager was the one serving food to customers and clearing the boards.\\\\nThe manager was rude when giving me my order. She didn\\'t make sure that I had everything ON MY RECEIPT, and never even had the decency to apologize that I felt I was getting poor service.\\\\nI\\'ve eaten at various McDonalds restaurants for over 30 years. I\\'ve worked at more than one location. I expect bad days, bad moods, and the occasional mistake. But I have yet to have a decent experience at this store. It will remain a place I avoid unless someone in my party needs to avoid illness from low blood sugar. Perhaps I should go back to the racially biased service of Steak n Shake instead!'}"
            ]
          },
          "execution_count": 3,
          "metadata": {},
          "output_type": "execute_result"
        }
      ],
      "source": [
        "from datasets import load_dataset\n",
        "\n",
        "dataset = load_dataset(\"yelp_review_full\")\n",
        "dataset[\"train\"][100]"
      ]
    },
    {
      "cell_type": "markdown",
      "metadata": {
        "id": "VgC-nRjgmIsg"
      },
      "source": [
        "As you now know, you need a tokenizer to process the text and include a padding and truncation strategy to handle any variable sequence lengths. To process your dataset in one step, use 🤗 Datasets [`map`](https://huggingface.co/docs/datasets/process.html#map) method to apply a preprocessing function over the entire dataset:"
      ]
    },
    {
      "cell_type": "code",
      "execution_count": 4,
      "metadata": {
        "id": "Qg812nlWmIsg"
      },
      "outputs": [
        {
          "name": "stderr",
          "output_type": "stream",
          "text": [
            "Loading cached processed dataset at /home/dchawra/.cache/huggingface/datasets/yelp_review_full/yelp_review_full/1.0.0/e8e18e19d7be9e75642fc66b198abadb116f73599ec89a69ba5dd8d1e57ba0bf/cache-abfb413a29e68f59.arrow\n",
            "Loading cached processed dataset at /home/dchawra/.cache/huggingface/datasets/yelp_review_full/yelp_review_full/1.0.0/e8e18e19d7be9e75642fc66b198abadb116f73599ec89a69ba5dd8d1e57ba0bf/cache-fb3047aca4907541.arrow\n"
          ]
        }
      ],
      "source": [
        "from transformers import AutoTokenizer\n",
        "\n",
        "tokenizer = AutoTokenizer.from_pretrained(\"bert-base-cased\")\n",
        "\n",
        "\n",
        "def tokenize_function(examples):\n",
        "    return tokenizer(examples[\"text\"], padding=\"max_length\", truncation=True)\n",
        "\n",
        "\n",
        "tokenized_datasets = dataset.map(tokenize_function, batched=True)"
      ]
    },
    {
      "cell_type": "markdown",
      "metadata": {
        "id": "xYrsieuPmIsg"
      },
      "source": [
        "If you like, you can create a smaller subset of the full dataset to fine-tune on to reduce the time it takes:"
      ]
    },
    {
      "cell_type": "code",
      "execution_count": 5,
      "metadata": {
        "id": "Chr06EVrmIsg"
      },
      "outputs": [
        {
          "name": "stderr",
          "output_type": "stream",
          "text": [
            "Loading cached shuffled indices for dataset at /home/dchawra/.cache/huggingface/datasets/yelp_review_full/yelp_review_full/1.0.0/e8e18e19d7be9e75642fc66b198abadb116f73599ec89a69ba5dd8d1e57ba0bf/cache-e610d8dc05503c8d.arrow\n",
            "Loading cached shuffled indices for dataset at /home/dchawra/.cache/huggingface/datasets/yelp_review_full/yelp_review_full/1.0.0/e8e18e19d7be9e75642fc66b198abadb116f73599ec89a69ba5dd8d1e57ba0bf/cache-844145ae27637fd0.arrow\n"
          ]
        }
      ],
      "source": [
        "small_train_dataset = tokenized_datasets[\"train\"].shuffle(seed=42).select(range(1000))\n",
        "small_eval_dataset = tokenized_datasets[\"test\"].shuffle(seed=42).select(range(1000))"
      ]
    },
    {
      "cell_type": "markdown",
      "metadata": {
        "id": "Qi1oK3damIsh"
      },
      "source": [
        "<a id='trainer'></a>"
      ]
    },
    {
      "cell_type": "markdown",
      "metadata": {
        "id": "v8AkwgrqmIsh"
      },
      "source": [
        "## Train"
      ]
    },
    {
      "cell_type": "markdown",
      "metadata": {
        "id": "ovPxx1xzmIsh"
      },
      "source": [
        "At this point, you should follow the section corresponding to the framework you want to use. You can use the links\n",
        "in the right sidebar to jump to the one you want - and if you want to hide all of the content for a given framework,\n",
        "just use the button at the top-right of that framework's block!"
      ]
    },
    {
      "cell_type": "markdown",
      "metadata": {
        "id": "QdmgWVsumIsh"
      },
      "source": [
        "## Train with PyTorch Trainer"
      ]
    },
    {
      "cell_type": "markdown",
      "metadata": {
        "id": "Cm1z1AsImIsi"
      },
      "source": [
        "🤗 Transformers provides a [Trainer](https://huggingface.co/docs/transformers/main/en/main_classes/trainer#transformers.Trainer) class optimized for training 🤗 Transformers models, making it easier to start training without manually writing your own training loop. The [Trainer](https://huggingface.co/docs/transformers/main/en/main_classes/trainer#transformers.Trainer) API supports a wide range of training options and features such as logging, gradient accumulation, and mixed precision.\n",
        "\n",
        "Start by loading your model and specify the number of expected labels. From the Yelp Review [dataset card](https://huggingface.co/datasets/yelp_review_full#data-fields), you know there are five labels:"
      ]
    },
    {
      "cell_type": "code",
      "execution_count": 7,
      "metadata": {
        "id": "RME5N_RjmIsi"
      },
      "outputs": [
        {
          "name": "stderr",
          "output_type": "stream",
          "text": [
            "Some weights of the model checkpoint at bert-base-cased were not used when initializing BertForSequenceClassification: ['cls.seq_relationship.weight', 'cls.predictions.decoder.weight', 'cls.predictions.transform.LayerNorm.bias', 'cls.seq_relationship.bias', 'cls.predictions.bias', 'cls.predictions.transform.LayerNorm.weight', 'cls.predictions.transform.dense.bias', 'cls.predictions.transform.dense.weight']\n",
            "- This IS expected if you are initializing BertForSequenceClassification from the checkpoint of a model trained on another task or with another architecture (e.g. initializing a BertForSequenceClassification model from a BertForPreTraining model).\n",
            "- This IS NOT expected if you are initializing BertForSequenceClassification from the checkpoint of a model that you expect to be exactly identical (initializing a BertForSequenceClassification model from a BertForSequenceClassification model).\n",
            "Some weights of BertForSequenceClassification were not initialized from the model checkpoint at bert-base-cased and are newly initialized: ['classifier.weight', 'classifier.bias']\n",
            "You should probably TRAIN this model on a down-stream task to be able to use it for predictions and inference.\n"
          ]
        }
      ],
      "source": [
        "from transformers import AutoModelForSequenceClassification\n",
        "\n",
        "model = AutoModelForSequenceClassification.from_pretrained(\"bert-base-cased\", num_labels=5)\n",
        "\n",
        "from transformers import TrainingArguments\n",
        "\n",
        "training_args = TrainingArguments(output_dir=\"test_trainer\")\n",
        "\n",
        "import numpy as np\n",
        "import evaluate\n",
        "\n",
        "metric = evaluate.load(\"accuracy\")\n",
        "\n",
        "def compute_metrics(eval_pred):\n",
        "    logits, labels = eval_pred\n",
        "    predictions = np.argmax(logits, axis=-1)\n",
        "    return metric.compute(predictions=predictions, references=labels)\n",
        "\n",
        "from transformers import TrainingArguments, Trainer\n",
        "\n",
        "training_args = TrainingArguments(output_dir=\"test_trainer\", evaluation_strategy=\"epoch\")"
      ]
    },
    {
      "cell_type": "markdown",
      "metadata": {
        "id": "8WDotwrWmIsi"
      },
      "source": [
        "<Tip>\n",
        "\n",
        "You will see a warning about some of the pretrained weights not being used and some weights being randomly\n",
        "initialized. Don't worry, this is completely normal! The pretrained head of the BERT model is discarded, and replaced with a randomly initialized classification head. You will fine-tune this new model head on your sequence classification task, transferring the knowledge of the pretrained model to it.\n",
        "\n",
        "</Tip>"
      ]
    },
    {
      "cell_type": "markdown",
      "metadata": {
        "id": "aRUyMDG_mIsi"
      },
      "source": [
        "Next, create a [TrainingArguments](https://huggingface.co/docs/transformers/main/en/main_classes/trainer#transformers.TrainingArguments) class which contains all the hyperparameters you can tune as well as flags for activating different training options. For this tutorial you can start with the default training [hyperparameters](https://huggingface.co/docs/transformers/main_classes/trainer#transformers.TrainingArguments), but feel free to experiment with these to find your optimal settings.\n",
        "\n",
        "Specify where to save the checkpoints from your training:"
      ]
    },
    {
      "cell_type": "markdown",
      "metadata": {
        "id": "G2xify9cmIsj"
      },
      "source": [
        "[Trainer](https://huggingface.co/docs/transformers/main/en/main_classes/trainer#transformers.Trainer) does not automatically evaluate model performance during training. You'll need to pass [Trainer](https://huggingface.co/docs/transformers/main/en/main_classes/trainer#transformers.Trainer) a function to compute and report metrics. The [🤗 Evaluate](https://huggingface.co/docs/evaluate/index) library provides a simple [`accuracy`](https://huggingface.co/spaces/evaluate-metric/accuracy) function you can load with the [evaluate.load](https://huggingface.co/docs/evaluate/main/en/package_reference/loading_methods#evaluate.load) (see this [quicktour](https://huggingface.co/docs/evaluate/a_quick_tour) for more information) function:"
      ]
    },
    {
      "cell_type": "markdown",
      "metadata": {
        "id": "9XV5Il2ymIsj"
      },
      "source": [
        "Call `compute` on `metric` to calculate the accuracy of your predictions. Before passing your predictions to `compute`, you need to convert the predictions to logits (remember all 🤗 Transformers models return logits):"
      ]
    },
    {
      "cell_type": "markdown",
      "metadata": {
        "id": "GAtFVKDWmIsj"
      },
      "source": [
        "If you'd like to monitor your evaluation metrics during fine-tuning, specify the `evaluation_strategy` parameter in your training arguments to report the evaluation metric at the end of each epoch:"
      ]
    },
    {
      "cell_type": "code",
      "execution_count": null,
      "metadata": {
        "id": "Mj3196mpmIsj"
      },
      "outputs": [],
      "source": []
    },
    {
      "cell_type": "markdown",
      "metadata": {
        "id": "PCUhACHvmIsj"
      },
      "source": [
        "### Trainer"
      ]
    },
    {
      "cell_type": "markdown",
      "metadata": {
        "id": "Lnadx6RUmIsj"
      },
      "source": [
        "Create a [Trainer](https://huggingface.co/docs/transformers/main/en/main_classes/trainer#transformers.Trainer) object with your model, training arguments, training and test datasets, and evaluation function:"
      ]
    },
    {
      "cell_type": "code",
      "execution_count": 8,
      "metadata": {
        "id": "11YJ6sb6mIsk"
      },
      "outputs": [],
      "source": [
        "trainer = Trainer(\n",
        "    model=model,\n",
        "    args=training_args,\n",
        "    train_dataset=small_train_dataset,\n",
        "    eval_dataset=small_eval_dataset,\n",
        "    compute_metrics=compute_metrics,\n",
        ")"
      ]
    },
    {
      "cell_type": "markdown",
      "metadata": {
        "id": "pokyobN0mIsk"
      },
      "source": [
        "Then fine-tune your model by calling [train()](https://huggingface.co/docs/transformers/main/en/main_classes/trainer#transformers.Trainer.train):"
      ]
    },
    {
      "cell_type": "code",
      "execution_count": 9,
      "metadata": {
        "id": "ViXNA9X9mIsl"
      },
      "outputs": [
        {
          "name": "stderr",
          "output_type": "stream",
          "text": [
            "/home/dchawra/mambaforge/envs/ml/lib/python3.10/site-packages/transformers/optimization.py:391: FutureWarning: This implementation of AdamW is deprecated and will be removed in a future version. Use the PyTorch implementation torch.optim.AdamW instead, or set `no_deprecation_warning=True` to disable this warning\n",
            "  warnings.warn(\n",
            "Failed to detect the name of this notebook, you can set it manually with the WANDB_NOTEBOOK_NAME environment variable to enable code saving.\n",
            "\u001b[34m\u001b[1mwandb\u001b[0m: Logging into wandb.ai. (Learn how to deploy a W&B server locally: https://wandb.me/wandb-server)\n",
            "\u001b[34m\u001b[1mwandb\u001b[0m: You can find your API key in your browser here: https://wandb.ai/authorize\n",
            "\u001b[34m\u001b[1mwandb\u001b[0m: Paste an API key from your profile and hit enter, or press ctrl+c to quit:\u001b[34m\u001b[1mwandb\u001b[0m: Paste an API key from your profile and hit enter, or press ctrl+c to quit:\u001b[34m\u001b[1mwandb\u001b[0m: Paste an API key from your profile and hit enter, or press ctrl+c to quit:\u001b[34m\u001b[1mwandb\u001b[0m: Paste an API key from your profile and hit enter, or press ctrl+c to quit:"
          ]
        }
      ],
      "source": [
        "trainer.train()"
      ]
    },
    {
      "cell_type": "markdown",
      "metadata": {
        "id": "FOaAd32_mIsl"
      },
      "source": [
        "<a id='pytorch_native'></a>"
      ]
    },
    {
      "cell_type": "markdown",
      "metadata": {
        "id": "gSahRWHbmIsl"
      },
      "source": [
        "## Train in native PyTorch"
      ]
    },
    {
      "cell_type": "markdown",
      "metadata": {
        "id": "UAszzLmnmIsm"
      },
      "source": [
        "[Trainer](https://huggingface.co/docs/transformers/main/en/main_classes/trainer#transformers.Trainer) takes care of the training loop and allows you to fine-tune a model in a single line of code. For users who prefer to write their own training loop, you can also fine-tune a 🤗 Transformers model in native PyTorch.\n",
        "\n",
        "At this point, you may need to restart your notebook or execute the following code to free some memory:"
      ]
    },
    {
      "cell_type": "code",
      "execution_count": 6,
      "metadata": {
        "id": "OtJVr-rHmIsn"
      },
      "outputs": [
        {
          "ename": "NameError",
          "evalue": "name 'model' is not defined",
          "output_type": "error",
          "traceback": [
            "\u001b[0;31m---------------------------------------------------------------------------\u001b[0m",
            "\u001b[0;31mNameError\u001b[0m                                 Traceback (most recent call last)",
            "Cell \u001b[0;32mIn[6], line 1\u001b[0m\n\u001b[0;32m----> 1\u001b[0m \u001b[39mdel\u001b[39;00m model\n\u001b[1;32m      2\u001b[0m \u001b[39mdel\u001b[39;00m trainer\n\u001b[1;32m      3\u001b[0m torch\u001b[39m.\u001b[39mcuda\u001b[39m.\u001b[39mempty_cache()\n",
            "\u001b[0;31mNameError\u001b[0m: name 'model' is not defined"
          ]
        }
      ],
      "source": [
        "del model\n",
        "del trainer\n",
        "torch.cuda.empty_cache()"
      ]
    },
    {
      "cell_type": "markdown",
      "metadata": {
        "id": "ReyZgB8-mIsn"
      },
      "source": [
        "Next, manually postprocess `tokenized_dataset` to prepare it for training.\n",
        "\n",
        "1. Remove the `text` column because the model does not accept raw text as an input:\n",
        "\n",
        "    ```py\n",
        "    >>> tokenized_datasets = tokenized_datasets.remove_columns([\"text\"])\n",
        "    ```\n",
        "\n",
        "2. Rename the `label` column to `labels` because the model expects the argument to be named `labels`:\n",
        "\n",
        "    ```py\n",
        "    >>> tokenized_datasets = tokenized_datasets.rename_column(\"label\", \"labels\")\n",
        "    ```\n",
        "\n",
        "3. Set the format of the dataset to return PyTorch tensors instead of lists:\n",
        "\n",
        "    ```py\n",
        "    >>> tokenized_datasets.set_format(\"torch\")\n",
        "    ```\n",
        "\n",
        "Then create a smaller subset of the dataset as previously shown to speed up the fine-tuning:"
      ]
    },
    {
      "cell_type": "code",
      "execution_count": 7,
      "metadata": {
        "id": "0gVUxptWmIsn"
      },
      "outputs": [
        {
          "name": "stderr",
          "output_type": "stream",
          "text": [
            "Loading cached shuffled indices for dataset at /home/dchawra/.cache/huggingface/datasets/yelp_review_full/yelp_review_full/1.0.0/e8e18e19d7be9e75642fc66b198abadb116f73599ec89a69ba5dd8d1e57ba0bf/cache-e610d8dc05503c8d.arrow\n",
            "Loading cached shuffled indices for dataset at /home/dchawra/.cache/huggingface/datasets/yelp_review_full/yelp_review_full/1.0.0/e8e18e19d7be9e75642fc66b198abadb116f73599ec89a69ba5dd8d1e57ba0bf/cache-844145ae27637fd0.arrow\n"
          ]
        }
      ],
      "source": [
        "small_train_dataset = tokenized_datasets[\"train\"].shuffle(seed=42).select(range(1000))\n",
        "small_eval_dataset = tokenized_datasets[\"test\"].shuffle(seed=42).select(range(1000))"
      ]
    },
    {
      "cell_type": "markdown",
      "metadata": {
        "id": "tEKUaoLOmIsn"
      },
      "source": [
        "### DataLoader"
      ]
    },
    {
      "cell_type": "markdown",
      "metadata": {
        "id": "LwRp1g4imIso"
      },
      "source": [
        "Create a `DataLoader` for your training and test datasets so you can iterate over batches of data:"
      ]
    },
    {
      "cell_type": "code",
      "execution_count": 8,
      "metadata": {
        "id": "UiX299CgmIso"
      },
      "outputs": [],
      "source": [
        "from torch.utils.data import DataLoader\n",
        "\n",
        "train_dataloader = DataLoader(small_train_dataset, shuffle=True, batch_size=8)\n",
        "eval_dataloader = DataLoader(small_eval_dataset, batch_size=8)"
      ]
    },
    {
      "cell_type": "markdown",
      "metadata": {
        "id": "huqM-kazmIso"
      },
      "source": [
        "Load your model with the number of expected labels:"
      ]
    },
    {
      "cell_type": "code",
      "execution_count": 9,
      "metadata": {
        "id": "7rGHbFQnmIsp"
      },
      "outputs": [
        {
          "name": "stderr",
          "output_type": "stream",
          "text": [
            "Some weights of the model checkpoint at bert-base-cased were not used when initializing BertForSequenceClassification: ['cls.predictions.bias', 'cls.predictions.transform.LayerNorm.weight', 'cls.seq_relationship.weight', 'cls.seq_relationship.bias', 'cls.predictions.transform.dense.bias', 'cls.predictions.transform.LayerNorm.bias', 'cls.predictions.transform.dense.weight', 'cls.predictions.decoder.weight']\n",
            "- This IS expected if you are initializing BertForSequenceClassification from the checkpoint of a model trained on another task or with another architecture (e.g. initializing a BertForSequenceClassification model from a BertForPreTraining model).\n",
            "- This IS NOT expected if you are initializing BertForSequenceClassification from the checkpoint of a model that you expect to be exactly identical (initializing a BertForSequenceClassification model from a BertForSequenceClassification model).\n",
            "Some weights of BertForSequenceClassification were not initialized from the model checkpoint at bert-base-cased and are newly initialized: ['classifier.weight', 'classifier.bias']\n",
            "You should probably TRAIN this model on a down-stream task to be able to use it for predictions and inference.\n"
          ]
        }
      ],
      "source": [
        "from transformers import AutoModelForSequenceClassification\n",
        "\n",
        "model = AutoModelForSequenceClassification.from_pretrained(\"bert-base-cased\", num_labels=5)"
      ]
    },
    {
      "cell_type": "markdown",
      "metadata": {
        "id": "YDjrK-K7mIsp"
      },
      "source": [
        "### Optimizer and learning rate scheduler"
      ]
    },
    {
      "cell_type": "markdown",
      "metadata": {
        "id": "_il7lzQbmIsp"
      },
      "source": [
        "Create an optimizer and learning rate scheduler to fine-tune the model. Let's use the [`AdamW`](https://pytorch.org/docs/stable/generated/torch.optim.AdamW.html) optimizer from PyTorch:"
      ]
    },
    {
      "cell_type": "code",
      "execution_count": 10,
      "metadata": {
        "id": "zfvOygCLmIsp"
      },
      "outputs": [],
      "source": [
        "from torch.optim import AdamW\n",
        "\n",
        "optimizer = AdamW(model.parameters(), lr=5e-5)"
      ]
    },
    {
      "cell_type": "markdown",
      "metadata": {
        "id": "qGB7a5rfmIsp"
      },
      "source": [
        "Create the default learning rate scheduler from [Trainer](https://huggingface.co/docs/transformers/main/en/main_classes/trainer#transformers.Trainer):"
      ]
    },
    {
      "cell_type": "code",
      "execution_count": 11,
      "metadata": {
        "id": "D4Ue8KoAmIsp"
      },
      "outputs": [],
      "source": [
        "from transformers import get_scheduler\n",
        "\n",
        "num_epochs = 3\n",
        "num_training_steps = num_epochs * len(train_dataloader)\n",
        "lr_scheduler = get_scheduler(\n",
        "    name=\"linear\", optimizer=optimizer, num_warmup_steps=0, num_training_steps=num_training_steps\n",
        ")"
      ]
    },
    {
      "cell_type": "markdown",
      "metadata": {
        "id": "jJvdCUhymIsp"
      },
      "source": [
        "Lastly, specify `device` to use a GPU if you have access to one. Otherwise, training on a CPU may take several hours instead of a couple of minutes."
      ]
    },
    {
      "cell_type": "code",
      "execution_count": 12,
      "metadata": {
        "id": "SHCIkkvvmIsp"
      },
      "outputs": [
        {
          "data": {
            "text/plain": [
              "BertForSequenceClassification(\n",
              "  (bert): BertModel(\n",
              "    (embeddings): BertEmbeddings(\n",
              "      (word_embeddings): Embedding(28996, 768, padding_idx=0)\n",
              "      (position_embeddings): Embedding(512, 768)\n",
              "      (token_type_embeddings): Embedding(2, 768)\n",
              "      (LayerNorm): LayerNorm((768,), eps=1e-12, elementwise_affine=True)\n",
              "      (dropout): Dropout(p=0.1, inplace=False)\n",
              "    )\n",
              "    (encoder): BertEncoder(\n",
              "      (layer): ModuleList(\n",
              "        (0): BertLayer(\n",
              "          (attention): BertAttention(\n",
              "            (self): BertSelfAttention(\n",
              "              (query): Linear(in_features=768, out_features=768, bias=True)\n",
              "              (key): Linear(in_features=768, out_features=768, bias=True)\n",
              "              (value): Linear(in_features=768, out_features=768, bias=True)\n",
              "              (dropout): Dropout(p=0.1, inplace=False)\n",
              "            )\n",
              "            (output): BertSelfOutput(\n",
              "              (dense): Linear(in_features=768, out_features=768, bias=True)\n",
              "              (LayerNorm): LayerNorm((768,), eps=1e-12, elementwise_affine=True)\n",
              "              (dropout): Dropout(p=0.1, inplace=False)\n",
              "            )\n",
              "          )\n",
              "          (intermediate): BertIntermediate(\n",
              "            (dense): Linear(in_features=768, out_features=3072, bias=True)\n",
              "            (intermediate_act_fn): GELUActivation()\n",
              "          )\n",
              "          (output): BertOutput(\n",
              "            (dense): Linear(in_features=3072, out_features=768, bias=True)\n",
              "            (LayerNorm): LayerNorm((768,), eps=1e-12, elementwise_affine=True)\n",
              "            (dropout): Dropout(p=0.1, inplace=False)\n",
              "          )\n",
              "        )\n",
              "        (1): BertLayer(\n",
              "          (attention): BertAttention(\n",
              "            (self): BertSelfAttention(\n",
              "              (query): Linear(in_features=768, out_features=768, bias=True)\n",
              "              (key): Linear(in_features=768, out_features=768, bias=True)\n",
              "              (value): Linear(in_features=768, out_features=768, bias=True)\n",
              "              (dropout): Dropout(p=0.1, inplace=False)\n",
              "            )\n",
              "            (output): BertSelfOutput(\n",
              "              (dense): Linear(in_features=768, out_features=768, bias=True)\n",
              "              (LayerNorm): LayerNorm((768,), eps=1e-12, elementwise_affine=True)\n",
              "              (dropout): Dropout(p=0.1, inplace=False)\n",
              "            )\n",
              "          )\n",
              "          (intermediate): BertIntermediate(\n",
              "            (dense): Linear(in_features=768, out_features=3072, bias=True)\n",
              "            (intermediate_act_fn): GELUActivation()\n",
              "          )\n",
              "          (output): BertOutput(\n",
              "            (dense): Linear(in_features=3072, out_features=768, bias=True)\n",
              "            (LayerNorm): LayerNorm((768,), eps=1e-12, elementwise_affine=True)\n",
              "            (dropout): Dropout(p=0.1, inplace=False)\n",
              "          )\n",
              "        )\n",
              "        (2): BertLayer(\n",
              "          (attention): BertAttention(\n",
              "            (self): BertSelfAttention(\n",
              "              (query): Linear(in_features=768, out_features=768, bias=True)\n",
              "              (key): Linear(in_features=768, out_features=768, bias=True)\n",
              "              (value): Linear(in_features=768, out_features=768, bias=True)\n",
              "              (dropout): Dropout(p=0.1, inplace=False)\n",
              "            )\n",
              "            (output): BertSelfOutput(\n",
              "              (dense): Linear(in_features=768, out_features=768, bias=True)\n",
              "              (LayerNorm): LayerNorm((768,), eps=1e-12, elementwise_affine=True)\n",
              "              (dropout): Dropout(p=0.1, inplace=False)\n",
              "            )\n",
              "          )\n",
              "          (intermediate): BertIntermediate(\n",
              "            (dense): Linear(in_features=768, out_features=3072, bias=True)\n",
              "            (intermediate_act_fn): GELUActivation()\n",
              "          )\n",
              "          (output): BertOutput(\n",
              "            (dense): Linear(in_features=3072, out_features=768, bias=True)\n",
              "            (LayerNorm): LayerNorm((768,), eps=1e-12, elementwise_affine=True)\n",
              "            (dropout): Dropout(p=0.1, inplace=False)\n",
              "          )\n",
              "        )\n",
              "        (3): BertLayer(\n",
              "          (attention): BertAttention(\n",
              "            (self): BertSelfAttention(\n",
              "              (query): Linear(in_features=768, out_features=768, bias=True)\n",
              "              (key): Linear(in_features=768, out_features=768, bias=True)\n",
              "              (value): Linear(in_features=768, out_features=768, bias=True)\n",
              "              (dropout): Dropout(p=0.1, inplace=False)\n",
              "            )\n",
              "            (output): BertSelfOutput(\n",
              "              (dense): Linear(in_features=768, out_features=768, bias=True)\n",
              "              (LayerNorm): LayerNorm((768,), eps=1e-12, elementwise_affine=True)\n",
              "              (dropout): Dropout(p=0.1, inplace=False)\n",
              "            )\n",
              "          )\n",
              "          (intermediate): BertIntermediate(\n",
              "            (dense): Linear(in_features=768, out_features=3072, bias=True)\n",
              "            (intermediate_act_fn): GELUActivation()\n",
              "          )\n",
              "          (output): BertOutput(\n",
              "            (dense): Linear(in_features=3072, out_features=768, bias=True)\n",
              "            (LayerNorm): LayerNorm((768,), eps=1e-12, elementwise_affine=True)\n",
              "            (dropout): Dropout(p=0.1, inplace=False)\n",
              "          )\n",
              "        )\n",
              "        (4): BertLayer(\n",
              "          (attention): BertAttention(\n",
              "            (self): BertSelfAttention(\n",
              "              (query): Linear(in_features=768, out_features=768, bias=True)\n",
              "              (key): Linear(in_features=768, out_features=768, bias=True)\n",
              "              (value): Linear(in_features=768, out_features=768, bias=True)\n",
              "              (dropout): Dropout(p=0.1, inplace=False)\n",
              "            )\n",
              "            (output): BertSelfOutput(\n",
              "              (dense): Linear(in_features=768, out_features=768, bias=True)\n",
              "              (LayerNorm): LayerNorm((768,), eps=1e-12, elementwise_affine=True)\n",
              "              (dropout): Dropout(p=0.1, inplace=False)\n",
              "            )\n",
              "          )\n",
              "          (intermediate): BertIntermediate(\n",
              "            (dense): Linear(in_features=768, out_features=3072, bias=True)\n",
              "            (intermediate_act_fn): GELUActivation()\n",
              "          )\n",
              "          (output): BertOutput(\n",
              "            (dense): Linear(in_features=3072, out_features=768, bias=True)\n",
              "            (LayerNorm): LayerNorm((768,), eps=1e-12, elementwise_affine=True)\n",
              "            (dropout): Dropout(p=0.1, inplace=False)\n",
              "          )\n",
              "        )\n",
              "        (5): BertLayer(\n",
              "          (attention): BertAttention(\n",
              "            (self): BertSelfAttention(\n",
              "              (query): Linear(in_features=768, out_features=768, bias=True)\n",
              "              (key): Linear(in_features=768, out_features=768, bias=True)\n",
              "              (value): Linear(in_features=768, out_features=768, bias=True)\n",
              "              (dropout): Dropout(p=0.1, inplace=False)\n",
              "            )\n",
              "            (output): BertSelfOutput(\n",
              "              (dense): Linear(in_features=768, out_features=768, bias=True)\n",
              "              (LayerNorm): LayerNorm((768,), eps=1e-12, elementwise_affine=True)\n",
              "              (dropout): Dropout(p=0.1, inplace=False)\n",
              "            )\n",
              "          )\n",
              "          (intermediate): BertIntermediate(\n",
              "            (dense): Linear(in_features=768, out_features=3072, bias=True)\n",
              "            (intermediate_act_fn): GELUActivation()\n",
              "          )\n",
              "          (output): BertOutput(\n",
              "            (dense): Linear(in_features=3072, out_features=768, bias=True)\n",
              "            (LayerNorm): LayerNorm((768,), eps=1e-12, elementwise_affine=True)\n",
              "            (dropout): Dropout(p=0.1, inplace=False)\n",
              "          )\n",
              "        )\n",
              "        (6): BertLayer(\n",
              "          (attention): BertAttention(\n",
              "            (self): BertSelfAttention(\n",
              "              (query): Linear(in_features=768, out_features=768, bias=True)\n",
              "              (key): Linear(in_features=768, out_features=768, bias=True)\n",
              "              (value): Linear(in_features=768, out_features=768, bias=True)\n",
              "              (dropout): Dropout(p=0.1, inplace=False)\n",
              "            )\n",
              "            (output): BertSelfOutput(\n",
              "              (dense): Linear(in_features=768, out_features=768, bias=True)\n",
              "              (LayerNorm): LayerNorm((768,), eps=1e-12, elementwise_affine=True)\n",
              "              (dropout): Dropout(p=0.1, inplace=False)\n",
              "            )\n",
              "          )\n",
              "          (intermediate): BertIntermediate(\n",
              "            (dense): Linear(in_features=768, out_features=3072, bias=True)\n",
              "            (intermediate_act_fn): GELUActivation()\n",
              "          )\n",
              "          (output): BertOutput(\n",
              "            (dense): Linear(in_features=3072, out_features=768, bias=True)\n",
              "            (LayerNorm): LayerNorm((768,), eps=1e-12, elementwise_affine=True)\n",
              "            (dropout): Dropout(p=0.1, inplace=False)\n",
              "          )\n",
              "        )\n",
              "        (7): BertLayer(\n",
              "          (attention): BertAttention(\n",
              "            (self): BertSelfAttention(\n",
              "              (query): Linear(in_features=768, out_features=768, bias=True)\n",
              "              (key): Linear(in_features=768, out_features=768, bias=True)\n",
              "              (value): Linear(in_features=768, out_features=768, bias=True)\n",
              "              (dropout): Dropout(p=0.1, inplace=False)\n",
              "            )\n",
              "            (output): BertSelfOutput(\n",
              "              (dense): Linear(in_features=768, out_features=768, bias=True)\n",
              "              (LayerNorm): LayerNorm((768,), eps=1e-12, elementwise_affine=True)\n",
              "              (dropout): Dropout(p=0.1, inplace=False)\n",
              "            )\n",
              "          )\n",
              "          (intermediate): BertIntermediate(\n",
              "            (dense): Linear(in_features=768, out_features=3072, bias=True)\n",
              "            (intermediate_act_fn): GELUActivation()\n",
              "          )\n",
              "          (output): BertOutput(\n",
              "            (dense): Linear(in_features=3072, out_features=768, bias=True)\n",
              "            (LayerNorm): LayerNorm((768,), eps=1e-12, elementwise_affine=True)\n",
              "            (dropout): Dropout(p=0.1, inplace=False)\n",
              "          )\n",
              "        )\n",
              "        (8): BertLayer(\n",
              "          (attention): BertAttention(\n",
              "            (self): BertSelfAttention(\n",
              "              (query): Linear(in_features=768, out_features=768, bias=True)\n",
              "              (key): Linear(in_features=768, out_features=768, bias=True)\n",
              "              (value): Linear(in_features=768, out_features=768, bias=True)\n",
              "              (dropout): Dropout(p=0.1, inplace=False)\n",
              "            )\n",
              "            (output): BertSelfOutput(\n",
              "              (dense): Linear(in_features=768, out_features=768, bias=True)\n",
              "              (LayerNorm): LayerNorm((768,), eps=1e-12, elementwise_affine=True)\n",
              "              (dropout): Dropout(p=0.1, inplace=False)\n",
              "            )\n",
              "          )\n",
              "          (intermediate): BertIntermediate(\n",
              "            (dense): Linear(in_features=768, out_features=3072, bias=True)\n",
              "            (intermediate_act_fn): GELUActivation()\n",
              "          )\n",
              "          (output): BertOutput(\n",
              "            (dense): Linear(in_features=3072, out_features=768, bias=True)\n",
              "            (LayerNorm): LayerNorm((768,), eps=1e-12, elementwise_affine=True)\n",
              "            (dropout): Dropout(p=0.1, inplace=False)\n",
              "          )\n",
              "        )\n",
              "        (9): BertLayer(\n",
              "          (attention): BertAttention(\n",
              "            (self): BertSelfAttention(\n",
              "              (query): Linear(in_features=768, out_features=768, bias=True)\n",
              "              (key): Linear(in_features=768, out_features=768, bias=True)\n",
              "              (value): Linear(in_features=768, out_features=768, bias=True)\n",
              "              (dropout): Dropout(p=0.1, inplace=False)\n",
              "            )\n",
              "            (output): BertSelfOutput(\n",
              "              (dense): Linear(in_features=768, out_features=768, bias=True)\n",
              "              (LayerNorm): LayerNorm((768,), eps=1e-12, elementwise_affine=True)\n",
              "              (dropout): Dropout(p=0.1, inplace=False)\n",
              "            )\n",
              "          )\n",
              "          (intermediate): BertIntermediate(\n",
              "            (dense): Linear(in_features=768, out_features=3072, bias=True)\n",
              "            (intermediate_act_fn): GELUActivation()\n",
              "          )\n",
              "          (output): BertOutput(\n",
              "            (dense): Linear(in_features=3072, out_features=768, bias=True)\n",
              "            (LayerNorm): LayerNorm((768,), eps=1e-12, elementwise_affine=True)\n",
              "            (dropout): Dropout(p=0.1, inplace=False)\n",
              "          )\n",
              "        )\n",
              "        (10): BertLayer(\n",
              "          (attention): BertAttention(\n",
              "            (self): BertSelfAttention(\n",
              "              (query): Linear(in_features=768, out_features=768, bias=True)\n",
              "              (key): Linear(in_features=768, out_features=768, bias=True)\n",
              "              (value): Linear(in_features=768, out_features=768, bias=True)\n",
              "              (dropout): Dropout(p=0.1, inplace=False)\n",
              "            )\n",
              "            (output): BertSelfOutput(\n",
              "              (dense): Linear(in_features=768, out_features=768, bias=True)\n",
              "              (LayerNorm): LayerNorm((768,), eps=1e-12, elementwise_affine=True)\n",
              "              (dropout): Dropout(p=0.1, inplace=False)\n",
              "            )\n",
              "          )\n",
              "          (intermediate): BertIntermediate(\n",
              "            (dense): Linear(in_features=768, out_features=3072, bias=True)\n",
              "            (intermediate_act_fn): GELUActivation()\n",
              "          )\n",
              "          (output): BertOutput(\n",
              "            (dense): Linear(in_features=3072, out_features=768, bias=True)\n",
              "            (LayerNorm): LayerNorm((768,), eps=1e-12, elementwise_affine=True)\n",
              "            (dropout): Dropout(p=0.1, inplace=False)\n",
              "          )\n",
              "        )\n",
              "        (11): BertLayer(\n",
              "          (attention): BertAttention(\n",
              "            (self): BertSelfAttention(\n",
              "              (query): Linear(in_features=768, out_features=768, bias=True)\n",
              "              (key): Linear(in_features=768, out_features=768, bias=True)\n",
              "              (value): Linear(in_features=768, out_features=768, bias=True)\n",
              "              (dropout): Dropout(p=0.1, inplace=False)\n",
              "            )\n",
              "            (output): BertSelfOutput(\n",
              "              (dense): Linear(in_features=768, out_features=768, bias=True)\n",
              "              (LayerNorm): LayerNorm((768,), eps=1e-12, elementwise_affine=True)\n",
              "              (dropout): Dropout(p=0.1, inplace=False)\n",
              "            )\n",
              "          )\n",
              "          (intermediate): BertIntermediate(\n",
              "            (dense): Linear(in_features=768, out_features=3072, bias=True)\n",
              "            (intermediate_act_fn): GELUActivation()\n",
              "          )\n",
              "          (output): BertOutput(\n",
              "            (dense): Linear(in_features=3072, out_features=768, bias=True)\n",
              "            (LayerNorm): LayerNorm((768,), eps=1e-12, elementwise_affine=True)\n",
              "            (dropout): Dropout(p=0.1, inplace=False)\n",
              "          )\n",
              "        )\n",
              "      )\n",
              "    )\n",
              "    (pooler): BertPooler(\n",
              "      (dense): Linear(in_features=768, out_features=768, bias=True)\n",
              "      (activation): Tanh()\n",
              "    )\n",
              "  )\n",
              "  (dropout): Dropout(p=0.1, inplace=False)\n",
              "  (classifier): Linear(in_features=768, out_features=5, bias=True)\n",
              ")"
            ]
          },
          "execution_count": 12,
          "metadata": {},
          "output_type": "execute_result"
        }
      ],
      "source": [
        "import torch\n",
        "\n",
        "device = torch.device(\"cuda\") if torch.cuda.is_available() else torch.device(\"cpu\")\n",
        "model.to(device)"
      ]
    },
    {
      "cell_type": "markdown",
      "metadata": {
        "id": "SVkf1o7bmIsp"
      },
      "source": [
        "<Tip>\n",
        "\n",
        "Get free access to a cloud GPU if you don't have one with a hosted notebook like [Colaboratory](https://colab.research.google.com/) or [SageMaker StudioLab](https://studiolab.sagemaker.aws/).\n",
        "\n",
        "</Tip>\n",
        "\n",
        "Great, now you are ready to train! 🥳"
      ]
    },
    {
      "cell_type": "markdown",
      "metadata": {
        "id": "0QXUDf6rmIsp"
      },
      "source": [
        "### Training loop"
      ]
    },
    {
      "cell_type": "markdown",
      "metadata": {
        "id": "Atu2CXLimIsp"
      },
      "source": [
        "To keep track of your training progress, use the [tqdm](https://tqdm.github.io/) library to add a progress bar over the number of training steps:"
      ]
    },
    {
      "cell_type": "code",
      "execution_count": 14,
      "metadata": {},
      "outputs": [
        {
          "data": {
            "text/plain": [
              "dict_items([('label', tensor([1, 2, 3, 0, 4, 3, 2, 0])), ('text', ['In order to not write a hateful review, I had to bring myself to the realization that this place is supposed to be a \\'healthy\\' buffet, not a \\'good\\' buffet. \\\\nI had never been here before, so I was delighted to see it was indeed a buffet. But as I got halfway down the first island of stuff, the delight turned into trepidation. At the cashier, which is at the end of your first go-round, she said $11.98 and I looked at my plate. \\\\\"For this?\\\\\" I wanted to ask. Wisely, I did not, for that is when I saw the other side of the buffet. There were warming lights and an actual kitchen back there, so I figured that must be where the meat is. I paid, however still leery. \\\\nI sat my salad down and hurried over to the hot stuff. Soups, alright. Breads with cheese on it, cool. Pastas, ok. Meats? No. Crap. \\\\nSo I knew I\\'d be eating \\'healthy\\'. I could use more of that. I didn\\'t complain too much. \\\\nAll the salad stuff was fresh. Whether it was good or not will depend upon your taste in salad stuff. They\\'ve got a variety toppings, so you probably will create something to your liking. They seemed to have all the bases covered with the dressings, too...and the low-fat honey mustard dressing doesn\\'t taste too low-fat, so don\\'t avoid it. There\\'s also oils and vinaigrette in bottles. I will say that for a place that specializes in salads, it seemed that they could have had even more toppings to offer...no ham, no turkey, no avocado, no mozzarella, no blahblahblah... I honestly have seen more offerings at a Ruby Tuesday salad bar. \\\\nAs for the specially prepared salads, most people will find something tasty. I had the Caesar salad, the pineapple coleslaw, tarragon tuna something, and some chicken and rice thing. The best was the Caesar, which was especially fresh and had garlic croutons. The pineapple coleslaw was as refreshing a dish as I think I\\'ve ever had. The tuna and the chicken/rice thing was just ok to me...but I still must point out how fresh it all was. \\\\nThe soups were delicious. I tried the shrimp bisque and the Mexican soup (can\\'t remember the name). The bisque was awesome as I had two bowls of it, creamy with a subtle flavor and plenty of shrimp. The Mexican soup was the meatiest thing there and had a great rustic taste. Neither soup was greasy or too heavy. \\\\nThe pasta was unremarkable. I had the lemon pasta with capers...all you tasted was a tang of lemon and absolutely nothing else. The pasta was well cooked, but just left you with no taste. I didn\\'t bother with the mac and cheese, as I don\\'t eat that at restaurants. Then there was the broccoli and cheese stuff...had too much of a twang to it, too sharp. I put it over the pasta to try and make something happen, the result was tasting nothing but the twang plus the tang. Uh uh. \\\\nOne of things I enjoyed the most was the asiago something something bread. It was nice and crusty, but soft somehow. And the taste was great...garlicy and the asiago cheesiness. Perfect with all the salad and even more so to sop up soup. There were other breads, but none looked as appetizing. I must say that they kept it nice and fresh, with at least 3 batches coming out while we were there. \\\\nDidn\\'t try the yogurt or any of the deserts...should\\'ve. Oh well. \\\\nThere is also some darn good strawberry lemonade here. Its got real strawberries from the looks of it, because you can see the \\'seeds\\' or whatever that stuff is in strawberries, all in the stuff. Either that or my glass was dirty... No, but it was great, and goes well with everything. \\\\nSomething else I\\'d like to mention is the service. The special salads had all been depleted, someone notified the cashier, the cashier immediately notified whoever, and they came over right away and began making fresh salads...which shows that there isn\\'t some big vat in the back with premade stuff in it. The line was backing up, but the people making the salads were busting their butts. It was nice to see. \\\\nWill I go back? Probably not, just not my style of buffet, even though it really SHOULD replace my usual buffets. \\\\nShould you go? If you like salads a lot, and if you like soups a lot - then yes. Keep in mind that they only had 3 soups to choose from, and also some chili (didn\\'t try). So that might not be enough variety for you. And you only get the pretty basic salad toppings. But its all fresh. Do not go here for the pasta. And I don\\'t know what changes at dinner time, so maybe there\\'s more variety then. \\\\nGood value? Yes, if you can get full off of salad and soup. Looking for a meal with more girth? No. $12 for no meat for a man who is looking for meat leaves a bad taste in the mouth. Don\\'t know the prices for kids under whatever age, but there is a senior price. \\\\nIf you\\'re smart enough to eat healthier, this is a decent place, but still doesn\\'t seem to have enough stuff to choose from - that\\'s my biggest gripe. Stay away if you\\'re used to eating at the Chinese buffet.', \"This place was okay, I wasn't too impressed. The neighborhood is great, but I didn't feel like the coffee shop was anything special. There isn't a lot of table space, so it's hard to do work.\\\\n\\\\nThe drinks were good, though. Seemed to be mostly fair priced. \\\\n\\\\nLike I said, it was good, but nothing special. I may or may not come back.\", 'When someone says \\\\\"buffet\\\\\", usually the world of foodies dies a little inside, but I was surprised at how lovely this place was to eat. Me and my fiancee went here as part of a Groupon for a 2-course meal with rice/naan for 2 but after taking our seats the lady who I took to be either the owner of joint owner offered us the chance to try a little more and asked if we would like to take the buffet instead of the 2 courses. I thought I had went to heaven, as bad as the idea of a buffet is, I couldn\\'t say no to unlimited Indian food.\\\\n\\\\nIf the manager is to be believed then everything in the restaurant is homemade, or at least made on the premises. The starters were delicious, the curries were magic, the naan breads were hot and soft and even the desert were lovely but not too sweet.\\\\n\\\\nThere is a part of me that feel reviewing a buffet is like reviewing a Tesco, but I was very surprised at how nice and intimate this place was. Service was great and the food was even better.\\\\n\\\\nAfter having a quick look at the a la carte, I will definitely be coming back to try that.\\\\n\\\\nI\\'m a self confessed buffet lover and no matter how many good restaurants I go to, I will never change in my need to get elbow deep in food once in a while.', 'Used to be my hobby store of choice.  I bought several RC cars and parts from them.  I have also referred people there to buy drones and RC cars.  I now cannot recommend Hobby Action.  Must be under a lot of pressure these days.  Customer service is now nonexistent and if you are a novice forget about it..  Yes, they have a lot of parts but their customer service is horrible.  Spoke to the owner about it today and his favorite word is policy and he was raising his voice at me.  Not customer friendly..  I walked out and will never be back.  Several other stores understand how to treat a loyal customer.', 'Tried a few of the manicurists here before I settled with Cecilia. Meticulous quality!', 'This isn\\'t *just* a lunch review. I say that so you\\'ll understand that Cowboy Ciao is also a great option for mid-day dining. Of course I want to go back for dinner and check out that menu, but all in good time...\\\\n\\\\nFor lunch, my hungry co-workers and I decided Cowboy Ciao was a fantastic Plan B (After Geisha so rudely dismissed us). Some of us were concerned about the price, but I figured I\\'d enjoy my lunch, no matter the cost, since it wasn\\'t everyday that I get to dine at such well-received places. \\\\n\\\\nI ordered the Buffalo Carpaccio. It was on their \\\\\"light\\\\\" menu, with plates to share or options that won\\'t leave you feeling overly stuffed. It was actually quite filling, with thin slices of seared buffalo, generous portions of goat cheese, a small green salad with beets and dried pieces of garlic bread (think upscale croutons). I loved everything but the dried bread. Oh well. It was soooo good, especially when combining the buffalo, goat cheese and green in a fork-full bite of pure enjoyment. \\\\n\\\\nMy friend got the famous (or infamous) Stetson Chopped Salad. Imagine my surprise when it was smoked salmon as the main meat - not beef, as I expected. Then again, when I think cowboy + stetson, I think beef. Wouldn\\'t you? Turns out the salad isn\\'t named in the cowboy theme (which is tastefully displayed in the decor) but for the name of the street. Ah-ha! Clever, Cowboy Ciao. You got me there. \\\\n\\\\nAnyhow, the salad, though small for a hungry luncher, was beautiful presented - all ingredients lined up in rows, then \\\\\"chopped\\\\\" right before your eyes! My co-worker was a bit disapponted in the size of the salad for $12. It\\'s definitely not something you should order if you\\'re really hungry!\\\\n\\\\nMy other co-worker ordered the daily special - an ENORMOUS sandwich that consisted of bacon, avocado, tomatoes, rooster (i forget the \\\\\"special culinary name\\\\\" for this) and toasted ciabatta bread. It was HUGE. Definitely a bargain for $10. I heard it was damn good, too. \\\\n\\\\nI also had a cup of their coffee. Yum. With fresh cream. I noticed it was a $3.00 cup, though. Dang. Next time I will accept the offer for a re-fill! \\\\n\\\\nSoooo... what\\'s the verdict? Cowboy Ciao gets my seal of approval. It\\'s a great place for lunch, especially if you decide to split a couple \\\\\"light\\\\\" plates. You may even opt for desert. How can you miss the delectable temptations, when they\\'re the first thing on the menu you see? \\\\n\\\\nCowboy Ciao, I\\'m on to you. You want me to be one of the many customers leaving behind witty remarks, don\\'t you? You want me doing back-flips like an Olympic gymnast on my way out the door? Well, like I said, I\\'m on to you. But don\\'t worry. It\\'s a good thing. You definitely won me over, especially since, with tip, I was able to have a wonderful, satisfying lunch here for $20. \\\\n\\\\nOh yeah, and Sean, our server, was A+. \\\\n\\\\nCan\\'t wait to go back for dinner...', 'Excellent service and presentation. Spectacular view. Wine list mostly a rip off although there are a few pearls hidden.\\\\nSteak is mediocre and should be better from such a gorgeous high end restaurant (steaks tasted like choice not Prime in my opinion ). Not as good as last time I was here about 1 1/2 years ago.', 'Sorry PAM (owner) but your place was terrible!!! My daughter had a so called cheese omelet (tiny tiny tiny tiny), it looked like something I was served on an airplane. The omelet consisted of one egg, maybe just maybe two very small eggs, paper thin deli ham (2 slices) little bit of finely shredded cheese, no toast, and a small side of dried out potatoes BTW the omelet was served on a plastic plate. To add insult they charged $7.95 for this. I had a egg and bacon breakfast burrito again very small, it was OK. Having read some of the other reviews me thinks that they are a sham by friends and relatives. This place is the worst!!!!']), ('input_ids', [tensor([101, 101, 101, 101, 101, 101, 101, 101]), tensor([ 1130,  1188,  1332, 17627, 18491,  1188, 25764,  6502]), tensor([1546, 1282, 1800, 1106, 1174, 2762, 1555, 8544]), tensor([1106, 1108, 1867, 1129,  170,  112, 1105, 2107]), tensor([1136, 3008,  165, 1139, 1374,  189, 8685,  113]), tensor([ 3593,   117,   107, 22510,  1104,   115,   119,  3172]), tensor([ 170,  146,  171, 2984, 1103, 1198,  156,  114]), tensor([ 4819,  1445,  9435,  1104,  1299,   115, 26426,  1133]), tensor([2365,  112, 2105, 3026, 1596,  170, 7409, 1240]), tensor([3189,  189,  165,  119, 8212, 5953, 5552, 1282]), tensor([  117,  1315,   107,   146, 10047,  3189,  2458,  1108]), tensor([ 146, 7351,  117, 3306, 1303,  119,  119, 6434]), tensor([ 1125,   119,  1932,  1317,  1196,   146, 15054,   106]), tensor([ 1106,  1109,  1103, 25157,   146,  1474,  2190,   106]), tensor([2498, 4532, 1362, 3079, 3035, 1115, 2426,  106]), tensor([1991, 1110, 1104, 1105, 1114, 1177,  170, 1422]), tensor([ 1106,  1632,  2094,  2192, 20391,  1128, 13579,  1797]), tensor([1103,  117, 1905, 1121,  119,  112, 1228, 1125]), tensor([13192,  1133,  8336,  1172, 19415,  1325,  1780,   170]), tensor([1115,  146,  170,  119, 1596, 2437, 1175, 1177]), tensor([ 1142,  1238,  1376,   146, 14762,  1115,  1132,  1270]), tensor([ 1282,   112,  1656,  1138,  3068, 21391,   170,  9553]), tensor([1110,  189,  117, 1145,  106,  140, 1374,  184]), tensor([ 3155,  1631,  1133,  2752,   102,  1465, 24837, 10212]), tensor([1106, 1176,  146, 1234,    0, 1186, 1116, 2105]), tensor([1129, 1103, 1108, 1175,    0, 1110, 4610,  113]), tensor([ 170, 3538, 3753, 1106,    0, 1145,  119, 4296]), tensor([ 112, 4130, 1120, 4417,    0,  170,  165, 4296]), tensor([ 8071,  1108,  1293, 22020,     0,  1632,   183,  4296]), tensor([ 112, 1625, 9020, 1116,    0, 5146, 1708, 4296]), tensor([ 171, 1957, 1142, 1105,    0, 1111, 1566,  114]), tensor([ 9435,   119,  1282, 25157,     0,  2286,  3715,   117]), tensor([2105, 1247, 1108, 3079,    0,  118, 1110, 1122]), tensor([ 117, 2762, 1106,  119,    0, 1285, 1143, 1350]), tensor([ 1136,   112,  3940,   146,     0,  7659, 13447,  1176]), tensor([  170,   189,   119,  1208,     0,   119, 13782,  1380]), tensor([ 112,  170, 2508, 2834,    0, 2096, 1105,  146]), tensor([ 1363,  1974,  1105, 18029,     0,  1736,  1431,  1108]), tensor([ 112, 1104, 1139, 9800,    0,  146, 1129, 1462]), tensor([  171,  1952, 20497, 13575,     0,  1328,  1618,  1113]), tensor([9435, 2000, 3923, 6605,    0, 1106, 1121, 1126]), tensor([ 2105,   117,  1162,   119,     0,  1301,  1216, 15478]), tensor([  119,  1177,  1355, 14303,     0,  1171,   170,   119]), tensor([  165,  1122,  1303,  1129,     0,  1111, 10144,  1109]), tensor([ 183,  112, 1112, 1223,    0, 4014, 1344,  184]), tensor([ 2240,   188,  1226,   170,     0,  1105,  1322, 10212]), tensor([1125, 1662, 1104, 1974,    0, 4031, 4382, 2105]), tensor([1309, 1106,  170, 1104,    0, 1149,  113, 4227]), tensor([ 1151,  1202,  1990,  2997,     0,  1115, 26704,  1104]), tensor([ 1303,  1250,  1320,  1292,     0, 13171,  1116,  1141]), tensor([ 1196,   119,  1111,  1552,     0,   117, 12876,  9069]), tensor([ 117,  165,  170,  119,    0, 1133, 1176,  117]), tensor([ 1177,   183,   123, 25456,     0,  1155,  3026,  2654]), tensor([ 146,  165,  118, 1200,    0, 1107, 1136, 1198]), tensor([1108,  183, 1736, 1555,    0, 1363, 3460, 2654]), tensor([17261,  1942,  7696,  1110,     0,  1159,  1107,  1160]), tensor([1106, 4638, 1114, 1208,    0,  119, 1139, 1304]), tensor([1267, 8898, 7738, 3839,    0,  119, 4893, 1353]), tensor([1122, 1127,  120, 8745,    0,  119,  114, 6471]), tensor([ 1108,  1363,  9468, 15874,     0,   165,   119,   117]), tensor([5750,  117, 1389, 1204,    0,  183, 1753, 2526]), tensor([ 170, 1463, 1111, 1105,    0,  165, 1112, 4240]), tensor([ 171,  119,  123, 1191,    0,  183, 1363, 3687]), tensor([9435, 3969, 1133, 1128,    0, 2271, 1112, 1182]), tensor([2105, 4611, 1170, 1132,    0, 1766, 1314, 5871]), tensor([ 119, 1106, 1781,  170,    0, 5953, 1159, 1306]), tensor([1252, 1129, 1412, 1185,    0,  117,  146,  113]), tensor([ 1112,  2426,  3474, 14301,     0,  1139,  1108,   123]), tensor([  146,  4652,  1103,  5042,     0,  7555,  1303, 16346]), tensor([ 1400, 23812,  5141,  1164,     0,  1884,  1164,  1116]), tensor([9079,  119, 1150, 1122,    0,  118,  122,  114]), tensor([1205,  165,  146,  119,    0, 3239,  122, 1376]), tensor([1103,  183, 1261,  119,    0, 1105,  120, 2113]), tensor([1148,  165, 1106, 2160,    0,  146,  123, 1104]), tensor([ 2248,   183,  1129,   117,     0,  1879,  1201, 24915]), tensor([ 1104,  2162,  1719,  1152,     0, 21391,  2403,   188]), tensor([ 4333, 13012,  1103,  1138,     0,   140,   119,  8167]), tensor([  117,   146,  3172,   170,     0,  1465,   102, 23372]), tensor([1103, 1163, 1104, 1974,    0, 1186,    0, 1174]), tensor([13657,   117,  4091,  1104,     0,  1108,     0,  9553]), tensor([1454, 1122, 3172, 2192,    0,  170,    0,  117]), tensor([ 1154,  1108,  2356,  1133,     0, 14820,     0,  1185]), tensor([  189,  1363,  1366,  1147,     0,  7382,     0, 17458]), tensor([1874,  117, 1103, 8132,    0,  139,    0,  117]), tensor([25786,  1133,  2640,  1555,     0,   113,     0,  1105]), tensor([1891, 1720, 1106, 1110,    0, 1258,    0,  170]), tensor([ 119, 1957, 2222, 9210,    0,  144,    0, 1353]), tensor([1335,  119,  170,  119,    0, 6851,    0, 1334]), tensor([1103,  146, 1376,  156,    0, 5480,    0, 1104]), tensor([5948, 1336, 1167, 5674,    0, 1177,    0, 9490]), tensor([ 2852,  1137,  1105,  2391,     0, 14708,     0,  1149]), tensor([  117,  1336,  1455,  1106,     0,  1193,     0, 15866]), tensor([ 1134,  1136,  1191,  1103,     0,  6714,     0, 27378]), tensor([1110, 1435, 1195, 3172,    0, 1366,    0, 2924]), tensor([1120, 1171, 1156, 1164,    0,  114,    0, 1103]), tensor([1103,  119, 1176, 1122,    0,  119,    0,  184]), tensor([ 1322,   102,  1106,  2052,     0,  1789,     0, 10212]), tensor([1104,    0, 1321, 1105,    0, 1104,    0, 2105]), tensor([1240,    0, 1103, 1117,    0, 1366,    0, 1108]), tensor([1148,    0,  171, 5095,    0, 1127,    0, 1462]), tensor([1301,    0, 9435, 1937,    0, 4264,    0, 1113]), tensor([ 118,    0, 2105, 1110,    0, 1164,    0,  170]), tensor([1668,    0, 1939, 2818,    0, 1103,    0, 5828]), tensor([ 117,    0, 1104, 1105,    0, 3945,    0, 4885]), tensor([1131,    0, 1103, 1119,    0,  117,    0,  119]), tensor([1163,    0,  123, 1108,    0, 1133,    0, 1706]), tensor([ 109,    0, 4770, 5920,    0,  146,    0, 5194]), tensor([ 1429,     0,   119,  1117,     0,  6101,     0, 16447]), tensor([ 119,    0,  146, 1490,    0,  146,    0, 1152]), tensor([5103,    0, 1354, 1120,    0,  112,    0, 4601]), tensor([1105,    0,  146, 1143,    0,  173,    0,  109]), tensor([ 146,    0, 1125,  119,    0, 5548,    0,  128]), tensor([1350,    0, 1355, 1753,    0, 1139,    0,  119]), tensor([1120,    0, 1106, 8132,    0, 5953,    0, 4573]), tensor([1139,    0, 9775, 4931,    0,  117,    0, 1111]), tensor([4885,    0,  117,  119,    0, 1185,    0, 1142]), tensor([ 119,    0, 1112,  119,    0, 2187,    0,  119]), tensor([ 165,    0, 2213,  146,    0, 1103,    0,  146]), tensor([ 107,    0, 1112, 2045,    0, 2616,    0, 1125]), tensor([1370,    0, 1103, 1149,    0,  117,    0,  170]), tensor([1142,    0, 1911, 1105,    0, 1290,    0, 9069]), tensor([ 136,    0, 1104, 1209,    0, 1122,    0, 1105]), tensor([  165,     0,   170,  1309,     0,  1445,     0, 20503]), tensor([ 107,    0,  171, 1129,    0,  112,    0, 6462]), tensor([ 146,    0, 9435, 1171,    0,  189,    0,  171]), tensor([ 1458,     0,  2105,   119,     0, 11236,     0,  2149]), tensor([ 1106,     0,  1110,  3728,     0,  1115,     0, 20376]), tensor([2367,    0,  117, 1168,    0,  146,    0, 1254]), tensor([ 119,    0,  146, 4822,    0, 1243,    0, 1304]), tensor([16089,     0,  1577,  2437,     0,  1106,     0,  1353]), tensor([ 1193,     0,   112,  1293,     0, 28028,     0,   117]), tensor([ 117,    0,  189, 1106,    0, 1162,    0, 1122]), tensor([ 146,    0, 1474, 7299,    0, 1120,    0, 1108]), tensor([ 1225,     0,  1185,   170,     0,  1216,     0, 10899]), tensor([1136,    0, 1106, 9125,    0, 1218,    0,  119]), tensor([  117,     0, 22921,  8132,     0,   118,     0,  5823]), tensor([1111,    0, 1890,  119,    0, 1460,    0, 2373]), tensor([1115,    0, 2094,  102,    0, 2844,    0, 1199]), tensor([1110,    0,  119,    0,    0,  119,    0, 1104]), tensor([1165,    0,  165,    0,    0,  165,    0, 1103]), tensor([ 146,    0,  183,    0,    0,  183,    0, 1168]), tensor([1486,    0,  165,    0,    0,  165,    0, 3761]), tensor([1103,    0,  183,    0,    0,  183,    0, 1143]), tensor([1168,    0, 2240,    0,    0, 2240,    0, 6191]), tensor([1334,    0, 2087,    0,    0, 2802,    0, 1115]), tensor([1104,    0, 1103,    0,    0, 1103,    0, 1152]), tensor([1103,    0, 2618,    0,    0, 6911,    0, 1132]), tensor([ 171,    0, 1110,    0,    0, 8185,    0,  170]), tensor([9435,    0, 1106,    0,    0, 4163,    0,  188]), tensor([ 2105,     0,  1129,     0,     0, 19557,     0,  2522]), tensor([ 119,    0, 2475,    0,    0, 1186,    0, 1118]), tensor([1247,    0, 1173,    0,    0,  119,    0, 2053]), tensor([1127,    0, 1917,    0,    0, 1135,    0, 1105]), tensor([14110,     0,  1107,     0,     0,  1108,     0,  8908]), tensor([4204,    0, 1103,    0,    0, 1113,    0,  119]), tensor([1105,    0, 4382,    0,    0, 1147,    0, 1188]), tensor([1126,    0, 1110,    0,    0,  165,    0, 1282]), tensor([4315,    0, 1313,    0,    0,  107,    0, 1110]), tensor([ 3119,     0, 12540,     0,     0,  1609,     0,  1103]), tensor([1171,    0,  117,    0,    0,  165,    0, 4997]), tensor([1175,    0, 1137,    0,    0,  107,    0,  106]), tensor([  117,     0,  1120,     0,     0, 13171,     0,   106]), tensor([1177,    0, 1655,    0,    0,  117,    0,  106]), tensor([ 146,    0, 1189,    0,    0, 1114,    0,  106]), tensor([6101,    0, 1113,    0,    0, 7463,    0,  102]), tensor([1115,    0, 1103,    0,    0, 1106,    0,    0]), tensor([ 1538,     0, 10330,     0,     0,  2934,     0,     0]), tensor([1129,    0,  119,    0,    0, 1137,    0,    0]), tensor([1187,    0, 1109,    0,    0, 6665,    0,    0]), tensor([ 1103,     0, 12302,     0,     0,  1115,     0,     0]), tensor([6092,    0, 1116,    0,    0, 1281,    0,    0]), tensor([1110,    0, 1127,    0,    0,  112,    0,    0]), tensor([  119,     0, 13108,     0,     0,   189,     0,     0]), tensor([ 146,    0,  117,    0,    0, 1817,    0,    0]), tensor([3004,    0, 1103,    0,    0, 1128,    0,    0]), tensor([  117,     0, 16408,     0,     0,  2296,     0,     0]), tensor([ 1649,     0, 15494,     0,     0, 16201,     0,     0]), tensor([ 1253,     0,  1127,     0,     0, 12084,     0,     0]), tensor([5837,    0, 3974,    0,    0,  119,    0,    0]), tensor([5075,    0,  117,    0,    0, 1135,    0,    0]), tensor([ 119,    0, 1103,    0,    0, 1108,    0,    0]), tensor([ 165,    0, 9468,    0,    0, 2140,    0,    0]), tensor([ 183,    0, 1389,    0,    0, 2385,    0,    0]), tensor([2240,    0, 8162,    0,    0, 7843,    0,    0]), tensor([2068,    0, 1116,    0,    0,  117,    0,    0]), tensor([1139,    0, 1127,    0,    0, 1114,    0,    0]), tensor([19359,     0,  2633,     0,     0,  4240,     0,     0]), tensor([ 1205,     0,  1105,     0,     0, 16346,     0,     0]), tensor([1105,    0, 2991,    0,    0, 1116,    0,    0]), tensor([9246,    0, 1105,    0,    0, 1104,    0,    0]), tensor([1166,    0, 1256,    0,    0, 2343,    0,    0]), tensor([1106,    0, 1103,    0,    0, 4359,    0,    0]), tensor([ 1103,     0,  6941,     0,     0, 26700,     0,     0]), tensor([2633,    0, 1127,    0,    0,  117,    0,    0]), tensor([ 4333,     0,  9020,     0,     0, 12839,     0,     0]), tensor([ 119,    0, 1133,    0,    0, 8924,    0,    0]), tensor([1573,    0, 1136,    0,    0, 1104,    0,    0]), tensor([17210,     0,  1315,     0,     0, 17497,     0,     0]), tensor([ 117,    0, 4105,    0,    0, 9553,    0,    0]), tensor([15354,     0,   119,     0,     0,   117,     0,     0]), tensor([119,   0, 165,   0,   0, 170,   0,   0]), tensor([ 139,    0,  183,    0,    0, 1353,    0,    0]), tensor([11613,     0,   165,     0,     0,  2448,     0,     0]), tensor([ 1116,     0,   183,     0,     0, 19359,     0,     0]), tensor([1114,    0, 1942,    0,    0, 1114,    0,    0]), tensor([ 9553,     0, 12807,     0,     0, 17775,     0,     0]), tensor([1113,    0, 1110,    0,    0, 2145,    0,    0]), tensor([1122,    0,  170,    0,    0, 1105,    0,    0]), tensor([ 117,    0, 1226,    0,    0, 9490,    0,    0]), tensor([4348,    0, 1104,    0,    0, 3423,    0,    0]), tensor([ 119,    0, 1143,    0,    0, 1104,    0,    0]), tensor([11415,     0,  1115,     0,     0, 24861,     0,     0]), tensor([2225,    0, 1631,    0,    0, 8162,    0,    0]), tensor([  117,     0, 19730,     0,     0,   113,     0,     0]), tensor([21534,     0,   170,     0,     0,  1341,     0,     0]), tensor([  119,     0,   171,     0,     0, 12534,     0,     0]), tensor([25224,     0,  9435,     0,     0, 20532,     0,     0]), tensor([1116,    0, 2105,    0,    0,  172,    0,    0]), tensor([  136,     0,  1110,     0,     0, 20885,     0,     0]), tensor([1302,    0, 1176,    0,    0, 4199,    0,    0]), tensor([  119,     0, 19730,     0,     0,   114,     0,     0]), tensor([140,   0, 170,   0,   0, 119,   0,   0]), tensor([14543,     0, 12008,     0,     0,   146,     0,     0]), tensor([  119,     0, 11428,     0,     0,  3097,     0,     0]), tensor([ 165,    0,  117,    0,    0, 1917,    0,    0]), tensor([ 183,    0, 1133,    0,    0, 1133,    0,    0]), tensor([1708,    0,  146,    0,    0, 1103,    0,    0]), tensor([1186,    0, 1108,    0,    0, 9490,    0,    0]), tensor([ 146,    0, 1304,    0,    0, 8162,    0,    0]), tensor([1450,    0, 3753,    0,    0,  119,    0,    0]), tensor([ 146,    0, 1120,    0,    0, 2048,    0,    0]), tensor([ 112,    0, 1293,    0,    0, 1218,    0,    0]), tensor([ 173,    0, 3505,    0,    0,  119,    0,    0]), tensor([1129,    0, 1105,    0,    0, 1135,    0,    0]), tensor([ 5497,     0, 10666,     0,     0,  1108,     0,     0]), tensor([ 112,    0, 1142,    0,    0, 1177,    0,    0]), tensor([8071,    0, 1282,    0,    0, 5658,    0,    0]), tensor([ 112,    0, 1108,    0,    0, 1186,    0,    0]), tensor([ 119,    0,  119,    0,    0, 1363,    0,    0]), tensor([ 146,    0, 2516,    0,    0,  117,    0,    0]), tensor([1180,    0, 1108,    0,    0, 2108,    0,    0]), tensor([1329,    0, 1632,    0,    0, 1165,    0,    0]), tensor([ 1167,     0,  1105,     0,     0, 12459,     0,     0]), tensor([1104,    0, 1103,    0,    0, 1103,    0,    0]), tensor([ 1115,     0,  2094,     0,     0, 26700,     0,     0]), tensor([ 119,    0, 1108,    0,    0,  117,    0,    0]), tensor([  146,     0,  1256,     0,     0, 17497,     0,     0]), tensor([1238,    0, 1618,    0,    0, 9553,    0,    0]), tensor([ 112,    0,  119,    0,    0, 1105,    0,    0]), tensor([ 189,    0,  165,    0,    0, 2448,    0,    0]), tensor([19073,     0,   183,     0,     0,  1107,     0,     0]), tensor([1315,    0,  165,    0,    0,  170,    0,    0]), tensor([ 1277,     0,   183,     0,     0, 13097,     0,     0]), tensor([ 119,    0, 1592,    0,    0,  118,    0,    0]), tensor([  165,     0, 20962,     0,     0,  1554,     0,     0]), tensor([ 183,    0, 1515,    0,    0, 6513,    0,    0]), tensor([1592,    0,  170,    0,    0, 1104,    0,    0]), tensor([2339,    0, 3613,    0,    0, 5805,    0,    0]), tensor([ 1103,     0,  1440,     0,     0, 22345,     0,     0]), tensor([19359,     0,  1120,     0,     0,   119,     0,     0]), tensor([4333,    0, 1103,    0,    0,  165,    0,    0]), tensor([1108,    0,  170,    0,    0,  183,    0,    0]), tensor([4489,    0, 2495,    0,    0,  165,    0,    0]), tensor([  119,     0, 12411,     0,     0,   183,     0,     0]), tensor([13197,     0,  1162,     0,     0,  2107,     0,     0]), tensor([1122,    0,  117,    0,    0, 1183,    0,    0]), tensor([1108,    0,  146,    0,    0, 1910,    0,    0]), tensor([1363,    0, 1209,    0,    0, 1400,    0,    0]), tensor([1137,    0, 5397,    0,    0, 1103,    0,    0]), tensor([1136,    0, 1129,    0,    0, 2505,    0,    0]), tensor([1209,    0, 1909,    0,    0,  113,    0,    0]), tensor([12864,     0,  1171,     0,     0,  1137,     0,     0]), tensor([ 1852,     0,  1106,     0,     0, 15881,     0,     0]), tensor([1240,    0, 2222,    0,    0,  114,    0,    0]), tensor([5080,    0, 1115,    0,    0, 1457,    0,    0]), tensor([1107,    0,  119,    0,    0, 6248,    0,    0]), tensor([19359,     0,   165,     0,     0,  1320,     0,     0]), tensor([ 4333,     0,   183,     0,     0, 22964,     0,     0]), tensor([  119,     0,   165,     0,     0, 10438,     0,     0]), tensor([ 1220,     0,   183,     0,     0, 18613,     0,     0]), tensor([ 112,    0, 2240,    0,    0, 3556,    0,    0]), tensor([1396,    0,  112,    0,    0,  119,    0,    0]), tensor([ 1400,     0,   182,     0,     0, 22449,     0,     0]), tensor([ 170,    0,  170,    0,    0, 1139,    0,    0]), tensor([2783,    0, 2191,    0,    0, 3774,    0,    0]), tensor([27001,     0, 14900,     0,     0,  1165,     0,     0]), tensor([1116,    0,  171,    0,    0, 1122,    0,    0]), tensor([ 117,    0, 9435,    0,    0, 1108,    0,    0]), tensor([ 1177,     0,  2105,     0,     0, 23235,     0,     0]), tensor([ 1128,     0,  7559,     0,     0, 17646,     0,     0]), tensor([1930,    0, 1105,    0,    0, 1112,    0,    0]), tensor([1209,    0, 1185,    0,    0, 1103,    0,    0]), tensor([2561,    0, 2187,    0,    0, 1514,    0,    0]), tensor([1380,    0, 1293,    0,    0, 6092,    0,    0]), tensor([1106,    0, 1242,    0,    0,  118,    0,    0]), tensor([1240,    0, 1363,    0,    0, 1136,    0,    0]), tensor([17974,     0,  7724,     0,     0, 14413,     0,     0]), tensor([119,   0, 146,   0,   0, 117,   0,   0]), tensor([1220,    0, 1301,    0,    0, 1112,    0,    0]), tensor([1882,    0, 1106,    0,    0,  146,    0,    0]), tensor([1106,    0,  117,    0,    0, 2637,    0,    0]), tensor([1138,    0,  146,    0,    0,  119,    0,    0]), tensor([1155,    0, 1209,    0,    0, 1599,    0,    0]), tensor([1103,    0, 1309,    0,    0, 1254,    0,    0]), tensor([7616,    0, 1849,    0,    0,  117,    0,    0]), tensor([2262,    0, 1107,    0,    0, 1165,    0,    0]), tensor([1114,    0, 1139,    0,    0,  146,    0,    0]), tensor([1103,    0, 1444,    0,    0, 1341,    0,    0]), tensor([11597,     0,  1106,     0,     0, 17803,     0,     0]), tensor([1116,    0, 1243,    0,    0,  116,    0,    0]), tensor([ 117,    0, 9007,    0,    0,  188,    0,    0]), tensor([1315,    0, 1996,    0,    0, 1566,    0,    0]), tensor([ 119,    0, 1107,    0,    0, 2145,    0,    0]), tensor([ 119,    0, 2094,    0,    0, 1320,    0,    0]), tensor([ 119,    0, 1517,    0,    0,  117,    0,    0]), tensor([1105,    0, 1107,    0,    0,  146,    0,    0]), tensor([1103,    0,  170,    0,    0, 1341,    0,    0]), tensor([ 1822,     0,  1229,     0,     0, 14413,     0,     0]), tensor([118,   0, 119,   0,   0, 119,   0,   0]), tensor([ 7930,     0,   102,     0,     0, 20487,     0,     0]), tensor([8531,    0,    0,    0,    0,  112,    0,    0]), tensor([1538,    0,    0,    0,    0,  189,    0,    0]), tensor([2881,    0,    0,    0,    0, 1128,    0,    0]), tensor([11597,     0,     0,     0,     0,   136,     0,     0]), tensor([ 2144,     0,     0,     0,     0, 12128,     0,     0]), tensor([ 112,    0,    0,    0,    0, 1116,    0,    0]), tensor([ 189,    0,    0,    0,    0, 1149,    0,    0]), tensor([5080,    0,    0,    0,    0, 1103,    0,    0]), tensor([ 1315,     0,     0,     0,     0, 19359,     0,     0]), tensor([1822,    0,    0,    0,    0, 2762,    0,    0]), tensor([118,   0,   0,   0,   0, 112,   0,   0]), tensor([7930,    0,    0,    0,    0,  189,    0,    0]), tensor([ 117,    0,    0,    0,    0, 1417,    0,    0]), tensor([1177,    0,    0,    0,    0, 1107,    0,    0]), tensor([1274,    0,    0,    0,    0, 1103,    0,    0]), tensor([  112,     0,     0,     0,     0, 17803,     0,     0]), tensor([ 189,    0,    0,    0,    0, 3815,    0,    0]), tensor([3644,    0,    0,    0,    0,  113,    0,    0]), tensor([1122,    0,    0,    0,    0, 1134,    0,    0]), tensor([ 119,    0,    0,    0,    0, 1110,    0,    0]), tensor([1247,    0,    0,    0,    0, 5080,    0,    0]), tensor([ 112,    0,    0,    0,    0, 5834,    0,    0]), tensor([ 188,    0,    0,    0,    0, 6361,    0,    0]), tensor([1145,    0,    0,    0,    0, 1107,    0,    0]), tensor([23638,     0,     0,     0,     0,  1103,     0,     0]), tensor([1105,    0,    0,    0,    0, 1260,    0,    0]), tensor([  191,     0,     0,     0,     0, 19248,     0,     0]), tensor([2983,    0,    0,    0,    0,  114,    0,    0]), tensor([6512,    0,    0,    0,    0, 1133,    0,    0]), tensor([8127,    0,    0,    0,    0, 1111,    0,    0]), tensor([1566,    0,    0,    0,    0, 1103,    0,    0]), tensor([1107,    0,    0,    0,    0, 1271,    0,    0]), tensor([11282,     0,     0,     0,     0,  1104,     0,     0]), tensor([ 119,    0,    0,    0,    0, 1103,    0,    0]), tensor([ 146,    0,    0,    0,    0, 2472,    0,    0]), tensor([1209,    0,    0,    0,    0,  119,    0,    0]), tensor([1474,    0,    0,    0,    0, 7066,    0,    0]), tensor([1115,    0,    0,    0,    0,  118,    0,    0]), tensor([1111,    0,    0,    0,    0, 5871,    0,    0]), tensor([170,   0,   0,   0,   0, 106,   0,   0]), tensor([1282,    0,    0,    0,    0,  140,    0,    0]), tensor([ 1115,     0,     0,     0,     0, 23403,     0,     0]), tensor([18192,     0,     0,     0,     0,  1200,     0,     0]), tensor([1107,    0,    0,    0,    0,  117,    0,    0]), tensor([19359,     0,     0,     0,     0, 21391,     0,     0]), tensor([1116,    0,    0,    0,    0,  140,    0,    0]), tensor([ 117,    0,    0,    0,    0, 1465,    0,    0]), tensor([1122,    0,    0,    0,    0, 1186,    0,    0]), tensor([1882,    0,    0,    0,    0,  119,    0,    0]), tensor([1115,    0,    0,    0,    0, 1192,    0,    0]), tensor([1152,    0,    0,    0,    0, 1400,    0,    0]), tensor([1180,    0,    0,    0,    0, 1143,    0,    0]), tensor([1138,    0,    0,    0,    0, 1175,    0,    0]), tensor([1125,    0,    0,    0,    0,  119,    0,    0]), tensor([1256,    0,    0,    0,    0,  165,    0,    0]), tensor([1167,    0,    0,    0,    0,  183,    0,    0]), tensor([27001,     0,     0,     0,     0,   165,     0,     0]), tensor([1116,    0,    0,    0,    0,  183,    0,    0]), tensor([1106,    0,    0,    0,    0, 1592,    0,    0]), tensor([2906,    0,    0,    0,    0, 3382,    0,    0]), tensor([  119,     0,     0,     0,     0, 17193,     0,     0]), tensor([119,   0,   0,   0,   0, 117,   0,   0]), tensor([ 119,    0,    0,    0,    0, 1103,    0,    0]), tensor([ 1185,     0,     0,     0,     0, 19359,     0,     0]), tensor([5871,    0,    0,    0,    0,  117,    0,    0]), tensor([1306,    0,    0,    0,    0, 1463,    0,    0]), tensor([ 117,    0,    0,    0,    0, 1353,    0,    0]), tensor([1185,    0,    0,    0,    0, 1111,    0,    0]), tensor([25138,     0,     0,     0,     0,   170,     0,     0]), tensor([ 117,    0,    0,    0,    0, 7555,    0,    0]), tensor([1185,    0,    0,    0,    0, 5953,    0,    0]), tensor([ 170,    0,    0,    0,    0, 1200,    0,    0]), tensor([24553,     0,     0,     0,     0,   117,     0,     0]), tensor([9359,    0,    0,    0,    0, 1108,    0,    0]), tensor([ 117,    0,    0,    0,    0, 2712,    0,    0]), tensor([1185,    0,    0,    0,    0, 2756,    0,    0]), tensor([182,   0,   0,   0,   0, 118,   0,   0]), tensor([17395,     0,     0,     0,     0,  1155,     0,     0]), tensor([ 8950,     0,     0,     0,     0, 13288,     0,     0]), tensor([7772,    0,    0,    0,    0, 7265,    0,    0]), tensor([ 117,    0,    0,    0,    0, 1146,    0,    0]), tensor([1185,    0,    0,    0,    0, 1107,    0,    0]), tensor([  171,     0,     0,     0,     0, 10389,     0,     0]), tensor([10358,     0,     0,     0,     0,   117,     0,     0]), tensor([18075,     0,     0,     0,     0,  1173,     0,     0]), tensor([1324,    0,    0,    0,    0,  165,    0,    0]), tensor([18075,     0,     0,     0,     0,   107,     0,     0]), tensor([ 1324,     0,     0,     0,     0, 22572,     0,     0]), tensor([  119,     0,     0,     0,     0, 23807,     0,     0]), tensor([119,   0,   0,   0,   0, 165,   0,   0]), tensor([119,   0,   0,   0,   0, 107,   0,   0]), tensor([ 146,    0,    0,    0,    0, 1268,    0,    0]), tensor([12051,     0,     0,     0,     0,  1196,     0,     0]), tensor([1138,    0,    0,    0,    0, 1240,    0,    0]), tensor([1562,    0,    0,    0,    0, 1257,    0,    0]), tensor([1167,    0,    0,    0,    0,  106,    0,    0]), tensor([16102,     0,     0,     0,     0,  1422,     0,     0]), tensor([1120,    0,    0,    0,    0, 1884,    0,    0]), tensor([170,   0,   0,   0,   0, 118,   0,   0]), tensor([11374,     0,     0,     0,     0,  7589,     0,     0]), tensor([9667,    0,    0,    0,    0, 1108,    0,    0]), tensor([19359,     0,     0,     0,     0,   170,     0,     0]), tensor([2927,    0,    0,    0,    0, 2113,    0,    0]), tensor([ 119,    0,    0,    0,    0, 4267,    0,    0]), tensor([ 165,    0,    0,    0,    0, 3202,    0,    0]), tensor([ 183,    0,    0,    0,    0, 8661,    0,    0]), tensor([23390,     0,     0,     0,     0, 22994,     0,     0]), tensor([1111,    0,    0,    0,    0, 1181,    0,    0]), tensor([1103,    0,    0,    0,    0, 1107,    0,    0]), tensor([12493,     0,     0,     0,     0,  1103,     0,     0]), tensor([4029,    0,    0,    0,    0, 2060,    0,    0]), tensor([19359,     0,     0,     0,     0,  1104,     0,     0]), tensor([1116,    0,    0,    0,    0, 1103,    0,    0]), tensor([  117,     0,     0,     0,     0, 19359,     0,     0]), tensor([1211,    0,    0,    0,    0, 1111,    0,    0]), tensor([1234,    0,    0,    0,    0,  109,    0,    0]), tensor([1209,    0,    0,    0,    0, 1367,    0,    0]), tensor([1525,    0,    0,    0,    0,  119,    0,    0]), tensor([1380,    0,    0,    0,    0, 1135,    0,    0]), tensor([27629,     0,     0,     0,     0,   112,     0,     0]), tensor([13913,     0,     0,     0,     0,   188,     0,     0]), tensor([ 119,    0,    0,    0,    0, 5397,    0,    0]), tensor([ 146,    0,    0,    0,    0, 1136,    0,    0]), tensor([1125,    0,    0,    0,    0, 1380,    0,    0]), tensor([1103,    0,    0,    0,    0, 1128,    0,    0]), tensor([11720,     0,     0,     0,     0,  1431,     0,     0]), tensor([19359,     0,     0,     0,     0,  1546,     0,     0]), tensor([ 117,    0,    0,    0,    0, 1191,    0,    0]), tensor([1103,    0,    0,    0,    0, 1128,    0,    0]), tensor([10194,     0,     0,     0,     0,   112,     0,     0]), tensor([11478,     0,     0,     0,     0,  1231,     0,     0]), tensor([7136,    0,    0,    0,    0, 1541,    0,    0]), tensor([1884,    0,    0,    0,    0, 7555,    0,    0]), tensor([2897,    0,    0,    0,    0,  106,    0,    0]), tensor([9598,    0,    0,    0,    0,  165,    0,    0]), tensor([117,   0,   0,   0,   0, 183,   0,   0]), tensor([27629,     0,     0,     0,     0,   165,     0,     0]), tensor([10582,     0,     0,     0,     0,   183,     0,     0]), tensor([7528,    0,    0,    0,    0, 2107,    0,    0]), tensor([ 189,    0,    0,    0,    0, 1183,    0,    0]), tensor([9291,    0,    0,    0,    0, 1168,    0,    0]), tensor([1380,    0,    0,    0,    0, 1884,    0,    0]), tensor([117,   0,   0,   0,   0, 118,   0,   0]), tensor([1105,    0,    0,    0,    0, 7589,    0,    0]), tensor([1199,    0,    0,    0,    0, 2802,    0,    0]), tensor([9323,    0,    0,    0,    0, 1103,    0,    0]), tensor([1105,    0,    0,    0,    0, 3828,    0,    0]), tensor([7738,    0,    0,    0,    0, 1957,    0,    0]), tensor([1645,    0,    0,    0,    0,  118,    0,    0]), tensor([ 119,    0,    0,    0,    0, 1126,    0,    0]), tensor([1109,    0,    0,    0,    0,  142,    0,    0]), tensor([1436,    0,    0,    0,    0, 2249,    0,    0]), tensor([1108,    0,    0,    0,    0, 9565,    0,    0]), tensor([ 1103,     0,     0,     0,     0, 20647,     0,     0]), tensor([11720,     0,     0,     0,     0, 13329,     0,     0]), tensor([  117,     0,     0,     0,     0, 14327,     0,     0]), tensor([1134,    0,    0,    0,    0, 1115,    0,    0]), tensor([1108,    0,    0,    0,    0, 4227,    0,    0]), tensor([2108,    0,    0,    0,    0, 1104,    0,    0]), tensor([ 4489,     0,     0,     0,     0, 20503,     0,     0]), tensor([1105,    0,    0,    0,    0,  117,    0,    0]), tensor([1125,    0,    0,    0,    0,  170,    0,    0]), tensor([24861,     0,     0,     0,     0, 24553,     0,     0]), tensor([ 172,    0,    0,    0,    0, 9359,    0,    0]), tensor([20885,     0,     0,     0,     0,   117,     0,     0]), tensor([ 4199,     0,     0,     0,     0, 26422,     0,     0]), tensor([ 119,    0,    0,    0,    0, 1279,    0,    0]), tensor([1109,    0,    0,    0,    0,  117,    0,    0]), tensor([10194,     0,     0,     0,     0,   187,     0,     0]), tensor([11478,     0,     0,     0,     0, 24163,     0,     0]), tensor([7136,    0,    0,    0,    0,  113,    0,    0]), tensor([1884,    0,    0,    0,    0,  178,    0,    0]), tensor([2897,    0,    0,    0,    0, 5042,    0,    0]), tensor([9598,    0,    0,    0,    0, 1103,    0,    0]), tensor([1108,    0,    0,    0,    0,  165,    0,    0]), tensor([1112,    0,    0,    0,    0,  107,    0,    0]), tensor([1231,    0,    0,    0,    0, 1957,    0,    0]), tensor([ 2087,     0,     0,     0,     0, 16408,     0,     0]), tensor([27129,     0,     0,     0,     0, 25471,     0,     0]), tensor([ 170,    0,    0,    0,    0, 1271,    0,    0]), tensor([10478,     0,     0,     0,     0,   165,     0,     0]), tensor([1112,    0,    0,    0,    0,  107,    0,    0]), tensor([ 146,    0,    0,    0,    0, 1111,    0,    0]), tensor([1341,    0,    0,    0,    0, 1142,    0,    0]), tensor([146,   0,   0,   0,   0, 114,   0,   0]), tensor([ 112,    0,    0,    0,    0, 1105,    0,    0]), tensor([ 1396,     0,     0,     0,     0, 17458,     0,     0]), tensor([1518,    0,    0,    0,    0, 1174,    0,    0]), tensor([1125,    0,    0,    0,    0,  172,    0,    0]), tensor([ 119,    0,    0,    0,    0, 1465,    0,    0]), tensor([ 1109,     0,     0,     0,     0, 14602,     0,     0]), tensor([102,   0,   0,   0,   0, 102,   0,   0])]), ('token_type_ids', [tensor([0, 0, 0, 0, 0, 0, 0, 0]), tensor([0, 0, 0, 0, 0, 0, 0, 0]), tensor([0, 0, 0, 0, 0, 0, 0, 0]), tensor([0, 0, 0, 0, 0, 0, 0, 0]), tensor([0, 0, 0, 0, 0, 0, 0, 0]), tensor([0, 0, 0, 0, 0, 0, 0, 0]), tensor([0, 0, 0, 0, 0, 0, 0, 0]), tensor([0, 0, 0, 0, 0, 0, 0, 0]), tensor([0, 0, 0, 0, 0, 0, 0, 0]), tensor([0, 0, 0, 0, 0, 0, 0, 0]), tensor([0, 0, 0, 0, 0, 0, 0, 0]), tensor([0, 0, 0, 0, 0, 0, 0, 0]), tensor([0, 0, 0, 0, 0, 0, 0, 0]), tensor([0, 0, 0, 0, 0, 0, 0, 0]), tensor([0, 0, 0, 0, 0, 0, 0, 0]), tensor([0, 0, 0, 0, 0, 0, 0, 0]), tensor([0, 0, 0, 0, 0, 0, 0, 0]), tensor([0, 0, 0, 0, 0, 0, 0, 0]), tensor([0, 0, 0, 0, 0, 0, 0, 0]), tensor([0, 0, 0, 0, 0, 0, 0, 0]), tensor([0, 0, 0, 0, 0, 0, 0, 0]), tensor([0, 0, 0, 0, 0, 0, 0, 0]), tensor([0, 0, 0, 0, 0, 0, 0, 0]), tensor([0, 0, 0, 0, 0, 0, 0, 0]), tensor([0, 0, 0, 0, 0, 0, 0, 0]), tensor([0, 0, 0, 0, 0, 0, 0, 0]), tensor([0, 0, 0, 0, 0, 0, 0, 0]), tensor([0, 0, 0, 0, 0, 0, 0, 0]), tensor([0, 0, 0, 0, 0, 0, 0, 0]), tensor([0, 0, 0, 0, 0, 0, 0, 0]), tensor([0, 0, 0, 0, 0, 0, 0, 0]), tensor([0, 0, 0, 0, 0, 0, 0, 0]), tensor([0, 0, 0, 0, 0, 0, 0, 0]), tensor([0, 0, 0, 0, 0, 0, 0, 0]), tensor([0, 0, 0, 0, 0, 0, 0, 0]), tensor([0, 0, 0, 0, 0, 0, 0, 0]), tensor([0, 0, 0, 0, 0, 0, 0, 0]), tensor([0, 0, 0, 0, 0, 0, 0, 0]), tensor([0, 0, 0, 0, 0, 0, 0, 0]), tensor([0, 0, 0, 0, 0, 0, 0, 0]), tensor([0, 0, 0, 0, 0, 0, 0, 0]), tensor([0, 0, 0, 0, 0, 0, 0, 0]), tensor([0, 0, 0, 0, 0, 0, 0, 0]), tensor([0, 0, 0, 0, 0, 0, 0, 0]), tensor([0, 0, 0, 0, 0, 0, 0, 0]), tensor([0, 0, 0, 0, 0, 0, 0, 0]), tensor([0, 0, 0, 0, 0, 0, 0, 0]), tensor([0, 0, 0, 0, 0, 0, 0, 0]), tensor([0, 0, 0, 0, 0, 0, 0, 0]), tensor([0, 0, 0, 0, 0, 0, 0, 0]), tensor([0, 0, 0, 0, 0, 0, 0, 0]), tensor([0, 0, 0, 0, 0, 0, 0, 0]), tensor([0, 0, 0, 0, 0, 0, 0, 0]), tensor([0, 0, 0, 0, 0, 0, 0, 0]), tensor([0, 0, 0, 0, 0, 0, 0, 0]), tensor([0, 0, 0, 0, 0, 0, 0, 0]), tensor([0, 0, 0, 0, 0, 0, 0, 0]), tensor([0, 0, 0, 0, 0, 0, 0, 0]), tensor([0, 0, 0, 0, 0, 0, 0, 0]), tensor([0, 0, 0, 0, 0, 0, 0, 0]), tensor([0, 0, 0, 0, 0, 0, 0, 0]), tensor([0, 0, 0, 0, 0, 0, 0, 0]), tensor([0, 0, 0, 0, 0, 0, 0, 0]), tensor([0, 0, 0, 0, 0, 0, 0, 0]), tensor([0, 0, 0, 0, 0, 0, 0, 0]), tensor([0, 0, 0, 0, 0, 0, 0, 0]), tensor([0, 0, 0, 0, 0, 0, 0, 0]), tensor([0, 0, 0, 0, 0, 0, 0, 0]), tensor([0, 0, 0, 0, 0, 0, 0, 0]), tensor([0, 0, 0, 0, 0, 0, 0, 0]), tensor([0, 0, 0, 0, 0, 0, 0, 0]), tensor([0, 0, 0, 0, 0, 0, 0, 0]), tensor([0, 0, 0, 0, 0, 0, 0, 0]), tensor([0, 0, 0, 0, 0, 0, 0, 0]), tensor([0, 0, 0, 0, 0, 0, 0, 0]), tensor([0, 0, 0, 0, 0, 0, 0, 0]), tensor([0, 0, 0, 0, 0, 0, 0, 0]), tensor([0, 0, 0, 0, 0, 0, 0, 0]), tensor([0, 0, 0, 0, 0, 0, 0, 0]), tensor([0, 0, 0, 0, 0, 0, 0, 0]), tensor([0, 0, 0, 0, 0, 0, 0, 0]), tensor([0, 0, 0, 0, 0, 0, 0, 0]), tensor([0, 0, 0, 0, 0, 0, 0, 0]), tensor([0, 0, 0, 0, 0, 0, 0, 0]), tensor([0, 0, 0, 0, 0, 0, 0, 0]), tensor([0, 0, 0, 0, 0, 0, 0, 0]), tensor([0, 0, 0, 0, 0, 0, 0, 0]), tensor([0, 0, 0, 0, 0, 0, 0, 0]), tensor([0, 0, 0, 0, 0, 0, 0, 0]), tensor([0, 0, 0, 0, 0, 0, 0, 0]), tensor([0, 0, 0, 0, 0, 0, 0, 0]), tensor([0, 0, 0, 0, 0, 0, 0, 0]), tensor([0, 0, 0, 0, 0, 0, 0, 0]), tensor([0, 0, 0, 0, 0, 0, 0, 0]), tensor([0, 0, 0, 0, 0, 0, 0, 0]), tensor([0, 0, 0, 0, 0, 0, 0, 0]), tensor([0, 0, 0, 0, 0, 0, 0, 0]), tensor([0, 0, 0, 0, 0, 0, 0, 0]), tensor([0, 0, 0, 0, 0, 0, 0, 0]), tensor([0, 0, 0, 0, 0, 0, 0, 0]), tensor([0, 0, 0, 0, 0, 0, 0, 0]), tensor([0, 0, 0, 0, 0, 0, 0, 0]), tensor([0, 0, 0, 0, 0, 0, 0, 0]), tensor([0, 0, 0, 0, 0, 0, 0, 0]), tensor([0, 0, 0, 0, 0, 0, 0, 0]), tensor([0, 0, 0, 0, 0, 0, 0, 0]), tensor([0, 0, 0, 0, 0, 0, 0, 0]), tensor([0, 0, 0, 0, 0, 0, 0, 0]), tensor([0, 0, 0, 0, 0, 0, 0, 0]), tensor([0, 0, 0, 0, 0, 0, 0, 0]), tensor([0, 0, 0, 0, 0, 0, 0, 0]), tensor([0, 0, 0, 0, 0, 0, 0, 0]), tensor([0, 0, 0, 0, 0, 0, 0, 0]), tensor([0, 0, 0, 0, 0, 0, 0, 0]), tensor([0, 0, 0, 0, 0, 0, 0, 0]), tensor([0, 0, 0, 0, 0, 0, 0, 0]), tensor([0, 0, 0, 0, 0, 0, 0, 0]), tensor([0, 0, 0, 0, 0, 0, 0, 0]), tensor([0, 0, 0, 0, 0, 0, 0, 0]), tensor([0, 0, 0, 0, 0, 0, 0, 0]), tensor([0, 0, 0, 0, 0, 0, 0, 0]), tensor([0, 0, 0, 0, 0, 0, 0, 0]), tensor([0, 0, 0, 0, 0, 0, 0, 0]), tensor([0, 0, 0, 0, 0, 0, 0, 0]), tensor([0, 0, 0, 0, 0, 0, 0, 0]), tensor([0, 0, 0, 0, 0, 0, 0, 0]), tensor([0, 0, 0, 0, 0, 0, 0, 0]), tensor([0, 0, 0, 0, 0, 0, 0, 0]), tensor([0, 0, 0, 0, 0, 0, 0, 0]), tensor([0, 0, 0, 0, 0, 0, 0, 0]), tensor([0, 0, 0, 0, 0, 0, 0, 0]), tensor([0, 0, 0, 0, 0, 0, 0, 0]), tensor([0, 0, 0, 0, 0, 0, 0, 0]), tensor([0, 0, 0, 0, 0, 0, 0, 0]), tensor([0, 0, 0, 0, 0, 0, 0, 0]), tensor([0, 0, 0, 0, 0, 0, 0, 0]), tensor([0, 0, 0, 0, 0, 0, 0, 0]), tensor([0, 0, 0, 0, 0, 0, 0, 0]), tensor([0, 0, 0, 0, 0, 0, 0, 0]), tensor([0, 0, 0, 0, 0, 0, 0, 0]), tensor([0, 0, 0, 0, 0, 0, 0, 0]), tensor([0, 0, 0, 0, 0, 0, 0, 0]), tensor([0, 0, 0, 0, 0, 0, 0, 0]), tensor([0, 0, 0, 0, 0, 0, 0, 0]), tensor([0, 0, 0, 0, 0, 0, 0, 0]), tensor([0, 0, 0, 0, 0, 0, 0, 0]), tensor([0, 0, 0, 0, 0, 0, 0, 0]), tensor([0, 0, 0, 0, 0, 0, 0, 0]), tensor([0, 0, 0, 0, 0, 0, 0, 0]), tensor([0, 0, 0, 0, 0, 0, 0, 0]), tensor([0, 0, 0, 0, 0, 0, 0, 0]), tensor([0, 0, 0, 0, 0, 0, 0, 0]), tensor([0, 0, 0, 0, 0, 0, 0, 0]), tensor([0, 0, 0, 0, 0, 0, 0, 0]), tensor([0, 0, 0, 0, 0, 0, 0, 0]), tensor([0, 0, 0, 0, 0, 0, 0, 0]), tensor([0, 0, 0, 0, 0, 0, 0, 0]), tensor([0, 0, 0, 0, 0, 0, 0, 0]), tensor([0, 0, 0, 0, 0, 0, 0, 0]), tensor([0, 0, 0, 0, 0, 0, 0, 0]), tensor([0, 0, 0, 0, 0, 0, 0, 0]), tensor([0, 0, 0, 0, 0, 0, 0, 0]), tensor([0, 0, 0, 0, 0, 0, 0, 0]), tensor([0, 0, 0, 0, 0, 0, 0, 0]), tensor([0, 0, 0, 0, 0, 0, 0, 0]), tensor([0, 0, 0, 0, 0, 0, 0, 0]), tensor([0, 0, 0, 0, 0, 0, 0, 0]), tensor([0, 0, 0, 0, 0, 0, 0, 0]), tensor([0, 0, 0, 0, 0, 0, 0, 0]), tensor([0, 0, 0, 0, 0, 0, 0, 0]), tensor([0, 0, 0, 0, 0, 0, 0, 0]), tensor([0, 0, 0, 0, 0, 0, 0, 0]), tensor([0, 0, 0, 0, 0, 0, 0, 0]), tensor([0, 0, 0, 0, 0, 0, 0, 0]), tensor([0, 0, 0, 0, 0, 0, 0, 0]), tensor([0, 0, 0, 0, 0, 0, 0, 0]), tensor([0, 0, 0, 0, 0, 0, 0, 0]), tensor([0, 0, 0, 0, 0, 0, 0, 0]), tensor([0, 0, 0, 0, 0, 0, 0, 0]), tensor([0, 0, 0, 0, 0, 0, 0, 0]), tensor([0, 0, 0, 0, 0, 0, 0, 0]), tensor([0, 0, 0, 0, 0, 0, 0, 0]), tensor([0, 0, 0, 0, 0, 0, 0, 0]), tensor([0, 0, 0, 0, 0, 0, 0, 0]), tensor([0, 0, 0, 0, 0, 0, 0, 0]), tensor([0, 0, 0, 0, 0, 0, 0, 0]), tensor([0, 0, 0, 0, 0, 0, 0, 0]), tensor([0, 0, 0, 0, 0, 0, 0, 0]), tensor([0, 0, 0, 0, 0, 0, 0, 0]), tensor([0, 0, 0, 0, 0, 0, 0, 0]), tensor([0, 0, 0, 0, 0, 0, 0, 0]), tensor([0, 0, 0, 0, 0, 0, 0, 0]), tensor([0, 0, 0, 0, 0, 0, 0, 0]), tensor([0, 0, 0, 0, 0, 0, 0, 0]), tensor([0, 0, 0, 0, 0, 0, 0, 0]), tensor([0, 0, 0, 0, 0, 0, 0, 0]), tensor([0, 0, 0, 0, 0, 0, 0, 0]), tensor([0, 0, 0, 0, 0, 0, 0, 0]), tensor([0, 0, 0, 0, 0, 0, 0, 0]), tensor([0, 0, 0, 0, 0, 0, 0, 0]), tensor([0, 0, 0, 0, 0, 0, 0, 0]), tensor([0, 0, 0, 0, 0, 0, 0, 0]), tensor([0, 0, 0, 0, 0, 0, 0, 0]), tensor([0, 0, 0, 0, 0, 0, 0, 0]), tensor([0, 0, 0, 0, 0, 0, 0, 0]), tensor([0, 0, 0, 0, 0, 0, 0, 0]), tensor([0, 0, 0, 0, 0, 0, 0, 0]), tensor([0, 0, 0, 0, 0, 0, 0, 0]), tensor([0, 0, 0, 0, 0, 0, 0, 0]), tensor([0, 0, 0, 0, 0, 0, 0, 0]), tensor([0, 0, 0, 0, 0, 0, 0, 0]), tensor([0, 0, 0, 0, 0, 0, 0, 0]), tensor([0, 0, 0, 0, 0, 0, 0, 0]), tensor([0, 0, 0, 0, 0, 0, 0, 0]), tensor([0, 0, 0, 0, 0, 0, 0, 0]), tensor([0, 0, 0, 0, 0, 0, 0, 0]), tensor([0, 0, 0, 0, 0, 0, 0, 0]), tensor([0, 0, 0, 0, 0, 0, 0, 0]), tensor([0, 0, 0, 0, 0, 0, 0, 0]), tensor([0, 0, 0, 0, 0, 0, 0, 0]), tensor([0, 0, 0, 0, 0, 0, 0, 0]), tensor([0, 0, 0, 0, 0, 0, 0, 0]), tensor([0, 0, 0, 0, 0, 0, 0, 0]), tensor([0, 0, 0, 0, 0, 0, 0, 0]), tensor([0, 0, 0, 0, 0, 0, 0, 0]), tensor([0, 0, 0, 0, 0, 0, 0, 0]), tensor([0, 0, 0, 0, 0, 0, 0, 0]), tensor([0, 0, 0, 0, 0, 0, 0, 0]), tensor([0, 0, 0, 0, 0, 0, 0, 0]), tensor([0, 0, 0, 0, 0, 0, 0, 0]), tensor([0, 0, 0, 0, 0, 0, 0, 0]), tensor([0, 0, 0, 0, 0, 0, 0, 0]), tensor([0, 0, 0, 0, 0, 0, 0, 0]), tensor([0, 0, 0, 0, 0, 0, 0, 0]), tensor([0, 0, 0, 0, 0, 0, 0, 0]), tensor([0, 0, 0, 0, 0, 0, 0, 0]), tensor([0, 0, 0, 0, 0, 0, 0, 0]), tensor([0, 0, 0, 0, 0, 0, 0, 0]), tensor([0, 0, 0, 0, 0, 0, 0, 0]), tensor([0, 0, 0, 0, 0, 0, 0, 0]), tensor([0, 0, 0, 0, 0, 0, 0, 0]), tensor([0, 0, 0, 0, 0, 0, 0, 0]), tensor([0, 0, 0, 0, 0, 0, 0, 0]), tensor([0, 0, 0, 0, 0, 0, 0, 0]), tensor([0, 0, 0, 0, 0, 0, 0, 0]), tensor([0, 0, 0, 0, 0, 0, 0, 0]), tensor([0, 0, 0, 0, 0, 0, 0, 0]), tensor([0, 0, 0, 0, 0, 0, 0, 0]), tensor([0, 0, 0, 0, 0, 0, 0, 0]), tensor([0, 0, 0, 0, 0, 0, 0, 0]), tensor([0, 0, 0, 0, 0, 0, 0, 0]), tensor([0, 0, 0, 0, 0, 0, 0, 0]), tensor([0, 0, 0, 0, 0, 0, 0, 0]), tensor([0, 0, 0, 0, 0, 0, 0, 0]), tensor([0, 0, 0, 0, 0, 0, 0, 0]), tensor([0, 0, 0, 0, 0, 0, 0, 0]), tensor([0, 0, 0, 0, 0, 0, 0, 0]), tensor([0, 0, 0, 0, 0, 0, 0, 0]), tensor([0, 0, 0, 0, 0, 0, 0, 0]), tensor([0, 0, 0, 0, 0, 0, 0, 0]), tensor([0, 0, 0, 0, 0, 0, 0, 0]), tensor([0, 0, 0, 0, 0, 0, 0, 0]), tensor([0, 0, 0, 0, 0, 0, 0, 0]), tensor([0, 0, 0, 0, 0, 0, 0, 0]), tensor([0, 0, 0, 0, 0, 0, 0, 0]), tensor([0, 0, 0, 0, 0, 0, 0, 0]), tensor([0, 0, 0, 0, 0, 0, 0, 0]), tensor([0, 0, 0, 0, 0, 0, 0, 0]), tensor([0, 0, 0, 0, 0, 0, 0, 0]), tensor([0, 0, 0, 0, 0, 0, 0, 0]), tensor([0, 0, 0, 0, 0, 0, 0, 0]), tensor([0, 0, 0, 0, 0, 0, 0, 0]), tensor([0, 0, 0, 0, 0, 0, 0, 0]), tensor([0, 0, 0, 0, 0, 0, 0, 0]), tensor([0, 0, 0, 0, 0, 0, 0, 0]), tensor([0, 0, 0, 0, 0, 0, 0, 0]), tensor([0, 0, 0, 0, 0, 0, 0, 0]), tensor([0, 0, 0, 0, 0, 0, 0, 0]), tensor([0, 0, 0, 0, 0, 0, 0, 0]), tensor([0, 0, 0, 0, 0, 0, 0, 0]), tensor([0, 0, 0, 0, 0, 0, 0, 0]), tensor([0, 0, 0, 0, 0, 0, 0, 0]), tensor([0, 0, 0, 0, 0, 0, 0, 0]), tensor([0, 0, 0, 0, 0, 0, 0, 0]), tensor([0, 0, 0, 0, 0, 0, 0, 0]), tensor([0, 0, 0, 0, 0, 0, 0, 0]), tensor([0, 0, 0, 0, 0, 0, 0, 0]), tensor([0, 0, 0, 0, 0, 0, 0, 0]), tensor([0, 0, 0, 0, 0, 0, 0, 0]), tensor([0, 0, 0, 0, 0, 0, 0, 0]), tensor([0, 0, 0, 0, 0, 0, 0, 0]), tensor([0, 0, 0, 0, 0, 0, 0, 0]), tensor([0, 0, 0, 0, 0, 0, 0, 0]), tensor([0, 0, 0, 0, 0, 0, 0, 0]), tensor([0, 0, 0, 0, 0, 0, 0, 0]), tensor([0, 0, 0, 0, 0, 0, 0, 0]), tensor([0, 0, 0, 0, 0, 0, 0, 0]), tensor([0, 0, 0, 0, 0, 0, 0, 0]), tensor([0, 0, 0, 0, 0, 0, 0, 0]), tensor([0, 0, 0, 0, 0, 0, 0, 0]), tensor([0, 0, 0, 0, 0, 0, 0, 0]), tensor([0, 0, 0, 0, 0, 0, 0, 0]), tensor([0, 0, 0, 0, 0, 0, 0, 0]), tensor([0, 0, 0, 0, 0, 0, 0, 0]), tensor([0, 0, 0, 0, 0, 0, 0, 0]), tensor([0, 0, 0, 0, 0, 0, 0, 0]), tensor([0, 0, 0, 0, 0, 0, 0, 0]), tensor([0, 0, 0, 0, 0, 0, 0, 0]), tensor([0, 0, 0, 0, 0, 0, 0, 0]), tensor([0, 0, 0, 0, 0, 0, 0, 0]), tensor([0, 0, 0, 0, 0, 0, 0, 0]), tensor([0, 0, 0, 0, 0, 0, 0, 0]), tensor([0, 0, 0, 0, 0, 0, 0, 0]), tensor([0, 0, 0, 0, 0, 0, 0, 0]), tensor([0, 0, 0, 0, 0, 0, 0, 0]), tensor([0, 0, 0, 0, 0, 0, 0, 0]), tensor([0, 0, 0, 0, 0, 0, 0, 0]), tensor([0, 0, 0, 0, 0, 0, 0, 0]), tensor([0, 0, 0, 0, 0, 0, 0, 0]), tensor([0, 0, 0, 0, 0, 0, 0, 0]), tensor([0, 0, 0, 0, 0, 0, 0, 0]), tensor([0, 0, 0, 0, 0, 0, 0, 0]), tensor([0, 0, 0, 0, 0, 0, 0, 0]), tensor([0, 0, 0, 0, 0, 0, 0, 0]), tensor([0, 0, 0, 0, 0, 0, 0, 0]), tensor([0, 0, 0, 0, 0, 0, 0, 0]), tensor([0, 0, 0, 0, 0, 0, 0, 0]), tensor([0, 0, 0, 0, 0, 0, 0, 0]), tensor([0, 0, 0, 0, 0, 0, 0, 0]), tensor([0, 0, 0, 0, 0, 0, 0, 0]), tensor([0, 0, 0, 0, 0, 0, 0, 0]), tensor([0, 0, 0, 0, 0, 0, 0, 0]), tensor([0, 0, 0, 0, 0, 0, 0, 0]), tensor([0, 0, 0, 0, 0, 0, 0, 0]), tensor([0, 0, 0, 0, 0, 0, 0, 0]), tensor([0, 0, 0, 0, 0, 0, 0, 0]), tensor([0, 0, 0, 0, 0, 0, 0, 0]), tensor([0, 0, 0, 0, 0, 0, 0, 0]), tensor([0, 0, 0, 0, 0, 0, 0, 0]), tensor([0, 0, 0, 0, 0, 0, 0, 0]), tensor([0, 0, 0, 0, 0, 0, 0, 0]), tensor([0, 0, 0, 0, 0, 0, 0, 0]), tensor([0, 0, 0, 0, 0, 0, 0, 0]), tensor([0, 0, 0, 0, 0, 0, 0, 0]), tensor([0, 0, 0, 0, 0, 0, 0, 0]), tensor([0, 0, 0, 0, 0, 0, 0, 0]), tensor([0, 0, 0, 0, 0, 0, 0, 0]), tensor([0, 0, 0, 0, 0, 0, 0, 0]), tensor([0, 0, 0, 0, 0, 0, 0, 0]), tensor([0, 0, 0, 0, 0, 0, 0, 0]), tensor([0, 0, 0, 0, 0, 0, 0, 0]), tensor([0, 0, 0, 0, 0, 0, 0, 0]), tensor([0, 0, 0, 0, 0, 0, 0, 0]), tensor([0, 0, 0, 0, 0, 0, 0, 0]), tensor([0, 0, 0, 0, 0, 0, 0, 0]), tensor([0, 0, 0, 0, 0, 0, 0, 0]), tensor([0, 0, 0, 0, 0, 0, 0, 0]), tensor([0, 0, 0, 0, 0, 0, 0, 0]), tensor([0, 0, 0, 0, 0, 0, 0, 0]), tensor([0, 0, 0, 0, 0, 0, 0, 0]), tensor([0, 0, 0, 0, 0, 0, 0, 0]), tensor([0, 0, 0, 0, 0, 0, 0, 0]), tensor([0, 0, 0, 0, 0, 0, 0, 0]), tensor([0, 0, 0, 0, 0, 0, 0, 0]), tensor([0, 0, 0, 0, 0, 0, 0, 0]), tensor([0, 0, 0, 0, 0, 0, 0, 0]), tensor([0, 0, 0, 0, 0, 0, 0, 0]), tensor([0, 0, 0, 0, 0, 0, 0, 0]), tensor([0, 0, 0, 0, 0, 0, 0, 0]), tensor([0, 0, 0, 0, 0, 0, 0, 0]), tensor([0, 0, 0, 0, 0, 0, 0, 0]), tensor([0, 0, 0, 0, 0, 0, 0, 0]), tensor([0, 0, 0, 0, 0, 0, 0, 0]), tensor([0, 0, 0, 0, 0, 0, 0, 0]), tensor([0, 0, 0, 0, 0, 0, 0, 0]), tensor([0, 0, 0, 0, 0, 0, 0, 0]), tensor([0, 0, 0, 0, 0, 0, 0, 0]), tensor([0, 0, 0, 0, 0, 0, 0, 0]), tensor([0, 0, 0, 0, 0, 0, 0, 0]), tensor([0, 0, 0, 0, 0, 0, 0, 0]), tensor([0, 0, 0, 0, 0, 0, 0, 0]), tensor([0, 0, 0, 0, 0, 0, 0, 0]), tensor([0, 0, 0, 0, 0, 0, 0, 0]), tensor([0, 0, 0, 0, 0, 0, 0, 0]), tensor([0, 0, 0, 0, 0, 0, 0, 0]), tensor([0, 0, 0, 0, 0, 0, 0, 0]), tensor([0, 0, 0, 0, 0, 0, 0, 0]), tensor([0, 0, 0, 0, 0, 0, 0, 0]), tensor([0, 0, 0, 0, 0, 0, 0, 0]), tensor([0, 0, 0, 0, 0, 0, 0, 0]), tensor([0, 0, 0, 0, 0, 0, 0, 0]), tensor([0, 0, 0, 0, 0, 0, 0, 0]), tensor([0, 0, 0, 0, 0, 0, 0, 0]), tensor([0, 0, 0, 0, 0, 0, 0, 0]), tensor([0, 0, 0, 0, 0, 0, 0, 0]), tensor([0, 0, 0, 0, 0, 0, 0, 0]), tensor([0, 0, 0, 0, 0, 0, 0, 0]), tensor([0, 0, 0, 0, 0, 0, 0, 0]), tensor([0, 0, 0, 0, 0, 0, 0, 0]), tensor([0, 0, 0, 0, 0, 0, 0, 0]), tensor([0, 0, 0, 0, 0, 0, 0, 0]), tensor([0, 0, 0, 0, 0, 0, 0, 0]), tensor([0, 0, 0, 0, 0, 0, 0, 0]), tensor([0, 0, 0, 0, 0, 0, 0, 0]), tensor([0, 0, 0, 0, 0, 0, 0, 0]), tensor([0, 0, 0, 0, 0, 0, 0, 0]), tensor([0, 0, 0, 0, 0, 0, 0, 0]), tensor([0, 0, 0, 0, 0, 0, 0, 0]), tensor([0, 0, 0, 0, 0, 0, 0, 0]), tensor([0, 0, 0, 0, 0, 0, 0, 0]), tensor([0, 0, 0, 0, 0, 0, 0, 0]), tensor([0, 0, 0, 0, 0, 0, 0, 0]), tensor([0, 0, 0, 0, 0, 0, 0, 0]), tensor([0, 0, 0, 0, 0, 0, 0, 0]), tensor([0, 0, 0, 0, 0, 0, 0, 0]), tensor([0, 0, 0, 0, 0, 0, 0, 0]), tensor([0, 0, 0, 0, 0, 0, 0, 0]), tensor([0, 0, 0, 0, 0, 0, 0, 0]), tensor([0, 0, 0, 0, 0, 0, 0, 0]), tensor([0, 0, 0, 0, 0, 0, 0, 0]), tensor([0, 0, 0, 0, 0, 0, 0, 0]), tensor([0, 0, 0, 0, 0, 0, 0, 0]), tensor([0, 0, 0, 0, 0, 0, 0, 0]), tensor([0, 0, 0, 0, 0, 0, 0, 0]), tensor([0, 0, 0, 0, 0, 0, 0, 0]), tensor([0, 0, 0, 0, 0, 0, 0, 0]), tensor([0, 0, 0, 0, 0, 0, 0, 0]), tensor([0, 0, 0, 0, 0, 0, 0, 0]), tensor([0, 0, 0, 0, 0, 0, 0, 0]), tensor([0, 0, 0, 0, 0, 0, 0, 0]), tensor([0, 0, 0, 0, 0, 0, 0, 0]), tensor([0, 0, 0, 0, 0, 0, 0, 0]), tensor([0, 0, 0, 0, 0, 0, 0, 0]), tensor([0, 0, 0, 0, 0, 0, 0, 0]), tensor([0, 0, 0, 0, 0, 0, 0, 0]), tensor([0, 0, 0, 0, 0, 0, 0, 0]), tensor([0, 0, 0, 0, 0, 0, 0, 0]), tensor([0, 0, 0, 0, 0, 0, 0, 0]), tensor([0, 0, 0, 0, 0, 0, 0, 0]), tensor([0, 0, 0, 0, 0, 0, 0, 0]), tensor([0, 0, 0, 0, 0, 0, 0, 0]), tensor([0, 0, 0, 0, 0, 0, 0, 0]), tensor([0, 0, 0, 0, 0, 0, 0, 0]), tensor([0, 0, 0, 0, 0, 0, 0, 0]), tensor([0, 0, 0, 0, 0, 0, 0, 0]), tensor([0, 0, 0, 0, 0, 0, 0, 0]), tensor([0, 0, 0, 0, 0, 0, 0, 0]), tensor([0, 0, 0, 0, 0, 0, 0, 0]), tensor([0, 0, 0, 0, 0, 0, 0, 0]), tensor([0, 0, 0, 0, 0, 0, 0, 0]), tensor([0, 0, 0, 0, 0, 0, 0, 0]), tensor([0, 0, 0, 0, 0, 0, 0, 0]), tensor([0, 0, 0, 0, 0, 0, 0, 0]), tensor([0, 0, 0, 0, 0, 0, 0, 0]), tensor([0, 0, 0, 0, 0, 0, 0, 0]), tensor([0, 0, 0, 0, 0, 0, 0, 0]), tensor([0, 0, 0, 0, 0, 0, 0, 0]), tensor([0, 0, 0, 0, 0, 0, 0, 0]), tensor([0, 0, 0, 0, 0, 0, 0, 0]), tensor([0, 0, 0, 0, 0, 0, 0, 0]), tensor([0, 0, 0, 0, 0, 0, 0, 0]), tensor([0, 0, 0, 0, 0, 0, 0, 0]), tensor([0, 0, 0, 0, 0, 0, 0, 0]), tensor([0, 0, 0, 0, 0, 0, 0, 0]), tensor([0, 0, 0, 0, 0, 0, 0, 0]), tensor([0, 0, 0, 0, 0, 0, 0, 0]), tensor([0, 0, 0, 0, 0, 0, 0, 0]), tensor([0, 0, 0, 0, 0, 0, 0, 0]), tensor([0, 0, 0, 0, 0, 0, 0, 0]), tensor([0, 0, 0, 0, 0, 0, 0, 0]), tensor([0, 0, 0, 0, 0, 0, 0, 0]), tensor([0, 0, 0, 0, 0, 0, 0, 0]), tensor([0, 0, 0, 0, 0, 0, 0, 0]), tensor([0, 0, 0, 0, 0, 0, 0, 0]), tensor([0, 0, 0, 0, 0, 0, 0, 0]), tensor([0, 0, 0, 0, 0, 0, 0, 0]), tensor([0, 0, 0, 0, 0, 0, 0, 0]), tensor([0, 0, 0, 0, 0, 0, 0, 0]), tensor([0, 0, 0, 0, 0, 0, 0, 0]), tensor([0, 0, 0, 0, 0, 0, 0, 0]), tensor([0, 0, 0, 0, 0, 0, 0, 0]), tensor([0, 0, 0, 0, 0, 0, 0, 0]), tensor([0, 0, 0, 0, 0, 0, 0, 0]), tensor([0, 0, 0, 0, 0, 0, 0, 0]), tensor([0, 0, 0, 0, 0, 0, 0, 0]), tensor([0, 0, 0, 0, 0, 0, 0, 0]), tensor([0, 0, 0, 0, 0, 0, 0, 0]), tensor([0, 0, 0, 0, 0, 0, 0, 0]), tensor([0, 0, 0, 0, 0, 0, 0, 0]), tensor([0, 0, 0, 0, 0, 0, 0, 0]), tensor([0, 0, 0, 0, 0, 0, 0, 0]), tensor([0, 0, 0, 0, 0, 0, 0, 0]), tensor([0, 0, 0, 0, 0, 0, 0, 0]), tensor([0, 0, 0, 0, 0, 0, 0, 0]), tensor([0, 0, 0, 0, 0, 0, 0, 0]), tensor([0, 0, 0, 0, 0, 0, 0, 0]), tensor([0, 0, 0, 0, 0, 0, 0, 0]), tensor([0, 0, 0, 0, 0, 0, 0, 0]), tensor([0, 0, 0, 0, 0, 0, 0, 0]), tensor([0, 0, 0, 0, 0, 0, 0, 0]), tensor([0, 0, 0, 0, 0, 0, 0, 0]), tensor([0, 0, 0, 0, 0, 0, 0, 0]), tensor([0, 0, 0, 0, 0, 0, 0, 0]), tensor([0, 0, 0, 0, 0, 0, 0, 0]), tensor([0, 0, 0, 0, 0, 0, 0, 0]), tensor([0, 0, 0, 0, 0, 0, 0, 0]), tensor([0, 0, 0, 0, 0, 0, 0, 0]), tensor([0, 0, 0, 0, 0, 0, 0, 0]), tensor([0, 0, 0, 0, 0, 0, 0, 0]), tensor([0, 0, 0, 0, 0, 0, 0, 0]), tensor([0, 0, 0, 0, 0, 0, 0, 0]), tensor([0, 0, 0, 0, 0, 0, 0, 0])]), ('attention_mask', [tensor([1, 1, 1, 1, 1, 1, 1, 1]), tensor([1, 1, 1, 1, 1, 1, 1, 1]), tensor([1, 1, 1, 1, 1, 1, 1, 1]), tensor([1, 1, 1, 1, 1, 1, 1, 1]), tensor([1, 1, 1, 1, 1, 1, 1, 1]), tensor([1, 1, 1, 1, 1, 1, 1, 1]), tensor([1, 1, 1, 1, 1, 1, 1, 1]), tensor([1, 1, 1, 1, 1, 1, 1, 1]), tensor([1, 1, 1, 1, 1, 1, 1, 1]), tensor([1, 1, 1, 1, 1, 1, 1, 1]), tensor([1, 1, 1, 1, 1, 1, 1, 1]), tensor([1, 1, 1, 1, 1, 1, 1, 1]), tensor([1, 1, 1, 1, 1, 1, 1, 1]), tensor([1, 1, 1, 1, 1, 1, 1, 1]), tensor([1, 1, 1, 1, 1, 1, 1, 1]), tensor([1, 1, 1, 1, 1, 1, 1, 1]), tensor([1, 1, 1, 1, 1, 1, 1, 1]), tensor([1, 1, 1, 1, 1, 1, 1, 1]), tensor([1, 1, 1, 1, 1, 1, 1, 1]), tensor([1, 1, 1, 1, 1, 1, 1, 1]), tensor([1, 1, 1, 1, 1, 1, 1, 1]), tensor([1, 1, 1, 1, 1, 1, 1, 1]), tensor([1, 1, 1, 1, 1, 1, 1, 1]), tensor([1, 1, 1, 1, 1, 1, 1, 1]), tensor([1, 1, 1, 1, 0, 1, 1, 1]), tensor([1, 1, 1, 1, 0, 1, 1, 1]), tensor([1, 1, 1, 1, 0, 1, 1, 1]), tensor([1, 1, 1, 1, 0, 1, 1, 1]), tensor([1, 1, 1, 1, 0, 1, 1, 1]), tensor([1, 1, 1, 1, 0, 1, 1, 1]), tensor([1, 1, 1, 1, 0, 1, 1, 1]), tensor([1, 1, 1, 1, 0, 1, 1, 1]), tensor([1, 1, 1, 1, 0, 1, 1, 1]), tensor([1, 1, 1, 1, 0, 1, 1, 1]), tensor([1, 1, 1, 1, 0, 1, 1, 1]), tensor([1, 1, 1, 1, 0, 1, 1, 1]), tensor([1, 1, 1, 1, 0, 1, 1, 1]), tensor([1, 1, 1, 1, 0, 1, 1, 1]), tensor([1, 1, 1, 1, 0, 1, 1, 1]), tensor([1, 1, 1, 1, 0, 1, 1, 1]), tensor([1, 1, 1, 1, 0, 1, 1, 1]), tensor([1, 1, 1, 1, 0, 1, 1, 1]), tensor([1, 1, 1, 1, 0, 1, 1, 1]), tensor([1, 1, 1, 1, 0, 1, 1, 1]), tensor([1, 1, 1, 1, 0, 1, 1, 1]), tensor([1, 1, 1, 1, 0, 1, 1, 1]), tensor([1, 1, 1, 1, 0, 1, 1, 1]), tensor([1, 1, 1, 1, 0, 1, 1, 1]), tensor([1, 1, 1, 1, 0, 1, 1, 1]), tensor([1, 1, 1, 1, 0, 1, 1, 1]), tensor([1, 1, 1, 1, 0, 1, 1, 1]), tensor([1, 1, 1, 1, 0, 1, 1, 1]), tensor([1, 1, 1, 1, 0, 1, 1, 1]), tensor([1, 1, 1, 1, 0, 1, 1, 1]), tensor([1, 1, 1, 1, 0, 1, 1, 1]), tensor([1, 1, 1, 1, 0, 1, 1, 1]), tensor([1, 1, 1, 1, 0, 1, 1, 1]), tensor([1, 1, 1, 1, 0, 1, 1, 1]), tensor([1, 1, 1, 1, 0, 1, 1, 1]), tensor([1, 1, 1, 1, 0, 1, 1, 1]), tensor([1, 1, 1, 1, 0, 1, 1, 1]), tensor([1, 1, 1, 1, 0, 1, 1, 1]), tensor([1, 1, 1, 1, 0, 1, 1, 1]), tensor([1, 1, 1, 1, 0, 1, 1, 1]), tensor([1, 1, 1, 1, 0, 1, 1, 1]), tensor([1, 1, 1, 1, 0, 1, 1, 1]), tensor([1, 1, 1, 1, 0, 1, 1, 1]), tensor([1, 1, 1, 1, 0, 1, 1, 1]), tensor([1, 1, 1, 1, 0, 1, 1, 1]), tensor([1, 1, 1, 1, 0, 1, 1, 1]), tensor([1, 1, 1, 1, 0, 1, 1, 1]), tensor([1, 1, 1, 1, 0, 1, 1, 1]), tensor([1, 1, 1, 1, 0, 1, 1, 1]), tensor([1, 1, 1, 1, 0, 1, 1, 1]), tensor([1, 1, 1, 1, 0, 1, 1, 1]), tensor([1, 1, 1, 1, 0, 1, 1, 1]), tensor([1, 1, 1, 1, 0, 1, 1, 1]), tensor([1, 1, 1, 1, 0, 1, 1, 1]), tensor([1, 1, 1, 1, 0, 1, 0, 1]), tensor([1, 1, 1, 1, 0, 1, 0, 1]), tensor([1, 1, 1, 1, 0, 1, 0, 1]), tensor([1, 1, 1, 1, 0, 1, 0, 1]), tensor([1, 1, 1, 1, 0, 1, 0, 1]), tensor([1, 1, 1, 1, 0, 1, 0, 1]), tensor([1, 1, 1, 1, 0, 1, 0, 1]), tensor([1, 1, 1, 1, 0, 1, 0, 1]), tensor([1, 1, 1, 1, 0, 1, 0, 1]), tensor([1, 1, 1, 1, 0, 1, 0, 1]), tensor([1, 1, 1, 1, 0, 1, 0, 1]), tensor([1, 1, 1, 1, 0, 1, 0, 1]), tensor([1, 1, 1, 1, 0, 1, 0, 1]), tensor([1, 1, 1, 1, 0, 1, 0, 1]), tensor([1, 1, 1, 1, 0, 1, 0, 1]), tensor([1, 1, 1, 1, 0, 1, 0, 1]), tensor([1, 1, 1, 1, 0, 1, 0, 1]), tensor([1, 1, 1, 1, 0, 1, 0, 1]), tensor([1, 1, 1, 1, 0, 1, 0, 1]), tensor([1, 0, 1, 1, 0, 1, 0, 1]), tensor([1, 0, 1, 1, 0, 1, 0, 1]), tensor([1, 0, 1, 1, 0, 1, 0, 1]), tensor([1, 0, 1, 1, 0, 1, 0, 1]), tensor([1, 0, 1, 1, 0, 1, 0, 1]), tensor([1, 0, 1, 1, 0, 1, 0, 1]), tensor([1, 0, 1, 1, 0, 1, 0, 1]), tensor([1, 0, 1, 1, 0, 1, 0, 1]), tensor([1, 0, 1, 1, 0, 1, 0, 1]), tensor([1, 0, 1, 1, 0, 1, 0, 1]), tensor([1, 0, 1, 1, 0, 1, 0, 1]), tensor([1, 0, 1, 1, 0, 1, 0, 1]), tensor([1, 0, 1, 1, 0, 1, 0, 1]), tensor([1, 0, 1, 1, 0, 1, 0, 1]), tensor([1, 0, 1, 1, 0, 1, 0, 1]), tensor([1, 0, 1, 1, 0, 1, 0, 1]), tensor([1, 0, 1, 1, 0, 1, 0, 1]), tensor([1, 0, 1, 1, 0, 1, 0, 1]), tensor([1, 0, 1, 1, 0, 1, 0, 1]), tensor([1, 0, 1, 1, 0, 1, 0, 1]), tensor([1, 0, 1, 1, 0, 1, 0, 1]), tensor([1, 0, 1, 1, 0, 1, 0, 1]), tensor([1, 0, 1, 1, 0, 1, 0, 1]), tensor([1, 0, 1, 1, 0, 1, 0, 1]), tensor([1, 0, 1, 1, 0, 1, 0, 1]), tensor([1, 0, 1, 1, 0, 1, 0, 1]), tensor([1, 0, 1, 1, 0, 1, 0, 1]), tensor([1, 0, 1, 1, 0, 1, 0, 1]), tensor([1, 0, 1, 1, 0, 1, 0, 1]), tensor([1, 0, 1, 1, 0, 1, 0, 1]), tensor([1, 0, 1, 1, 0, 1, 0, 1]), tensor([1, 0, 1, 1, 0, 1, 0, 1]), tensor([1, 0, 1, 1, 0, 1, 0, 1]), tensor([1, 0, 1, 1, 0, 1, 0, 1]), tensor([1, 0, 1, 1, 0, 1, 0, 1]), tensor([1, 0, 1, 1, 0, 1, 0, 1]), tensor([1, 0, 1, 1, 0, 1, 0, 1]), tensor([1, 0, 1, 1, 0, 1, 0, 1]), tensor([1, 0, 1, 1, 0, 1, 0, 1]), tensor([1, 0, 1, 1, 0, 1, 0, 1]), tensor([1, 0, 1, 1, 0, 1, 0, 1]), tensor([1, 0, 1, 0, 0, 1, 0, 1]), tensor([1, 0, 1, 0, 0, 1, 0, 1]), tensor([1, 0, 1, 0, 0, 1, 0, 1]), tensor([1, 0, 1, 0, 0, 1, 0, 1]), tensor([1, 0, 1, 0, 0, 1, 0, 1]), tensor([1, 0, 1, 0, 0, 1, 0, 1]), tensor([1, 0, 1, 0, 0, 1, 0, 1]), tensor([1, 0, 1, 0, 0, 1, 0, 1]), tensor([1, 0, 1, 0, 0, 1, 0, 1]), tensor([1, 0, 1, 0, 0, 1, 0, 1]), tensor([1, 0, 1, 0, 0, 1, 0, 1]), tensor([1, 0, 1, 0, 0, 1, 0, 1]), tensor([1, 0, 1, 0, 0, 1, 0, 1]), tensor([1, 0, 1, 0, 0, 1, 0, 1]), tensor([1, 0, 1, 0, 0, 1, 0, 1]), tensor([1, 0, 1, 0, 0, 1, 0, 1]), tensor([1, 0, 1, 0, 0, 1, 0, 1]), tensor([1, 0, 1, 0, 0, 1, 0, 1]), tensor([1, 0, 1, 0, 0, 1, 0, 1]), tensor([1, 0, 1, 0, 0, 1, 0, 1]), tensor([1, 0, 1, 0, 0, 1, 0, 1]), tensor([1, 0, 1, 0, 0, 1, 0, 1]), tensor([1, 0, 1, 0, 0, 1, 0, 1]), tensor([1, 0, 1, 0, 0, 1, 0, 1]), tensor([1, 0, 1, 0, 0, 1, 0, 1]), tensor([1, 0, 1, 0, 0, 1, 0, 1]), tensor([1, 0, 1, 0, 0, 1, 0, 1]), tensor([1, 0, 1, 0, 0, 1, 0, 0]), tensor([1, 0, 1, 0, 0, 1, 0, 0]), tensor([1, 0, 1, 0, 0, 1, 0, 0]), tensor([1, 0, 1, 0, 0, 1, 0, 0]), tensor([1, 0, 1, 0, 0, 1, 0, 0]), tensor([1, 0, 1, 0, 0, 1, 0, 0]), tensor([1, 0, 1, 0, 0, 1, 0, 0]), tensor([1, 0, 1, 0, 0, 1, 0, 0]), tensor([1, 0, 1, 0, 0, 1, 0, 0]), tensor([1, 0, 1, 0, 0, 1, 0, 0]), tensor([1, 0, 1, 0, 0, 1, 0, 0]), tensor([1, 0, 1, 0, 0, 1, 0, 0]), tensor([1, 0, 1, 0, 0, 1, 0, 0]), tensor([1, 0, 1, 0, 0, 1, 0, 0]), tensor([1, 0, 1, 0, 0, 1, 0, 0]), tensor([1, 0, 1, 0, 0, 1, 0, 0]), tensor([1, 0, 1, 0, 0, 1, 0, 0]), tensor([1, 0, 1, 0, 0, 1, 0, 0]), tensor([1, 0, 1, 0, 0, 1, 0, 0]), tensor([1, 0, 1, 0, 0, 1, 0, 0]), tensor([1, 0, 1, 0, 0, 1, 0, 0]), tensor([1, 0, 1, 0, 0, 1, 0, 0]), tensor([1, 0, 1, 0, 0, 1, 0, 0]), tensor([1, 0, 1, 0, 0, 1, 0, 0]), tensor([1, 0, 1, 0, 0, 1, 0, 0]), tensor([1, 0, 1, 0, 0, 1, 0, 0]), tensor([1, 0, 1, 0, 0, 1, 0, 0]), tensor([1, 0, 1, 0, 0, 1, 0, 0]), tensor([1, 0, 1, 0, 0, 1, 0, 0]), tensor([1, 0, 1, 0, 0, 1, 0, 0]), tensor([1, 0, 1, 0, 0, 1, 0, 0]), tensor([1, 0, 1, 0, 0, 1, 0, 0]), tensor([1, 0, 1, 0, 0, 1, 0, 0]), tensor([1, 0, 1, 0, 0, 1, 0, 0]), tensor([1, 0, 1, 0, 0, 1, 0, 0]), tensor([1, 0, 1, 0, 0, 1, 0, 0]), tensor([1, 0, 1, 0, 0, 1, 0, 0]), tensor([1, 0, 1, 0, 0, 1, 0, 0]), tensor([1, 0, 1, 0, 0, 1, 0, 0]), tensor([1, 0, 1, 0, 0, 1, 0, 0]), tensor([1, 0, 1, 0, 0, 1, 0, 0]), tensor([1, 0, 1, 0, 0, 1, 0, 0]), tensor([1, 0, 1, 0, 0, 1, 0, 0]), tensor([1, 0, 1, 0, 0, 1, 0, 0]), tensor([1, 0, 1, 0, 0, 1, 0, 0]), tensor([1, 0, 1, 0, 0, 1, 0, 0]), tensor([1, 0, 1, 0, 0, 1, 0, 0]), tensor([1, 0, 1, 0, 0, 1, 0, 0]), tensor([1, 0, 1, 0, 0, 1, 0, 0]), tensor([1, 0, 1, 0, 0, 1, 0, 0]), tensor([1, 0, 1, 0, 0, 1, 0, 0]), tensor([1, 0, 1, 0, 0, 1, 0, 0]), tensor([1, 0, 1, 0, 0, 1, 0, 0]), tensor([1, 0, 1, 0, 0, 1, 0, 0]), tensor([1, 0, 1, 0, 0, 1, 0, 0]), tensor([1, 0, 1, 0, 0, 1, 0, 0]), tensor([1, 0, 1, 0, 0, 1, 0, 0]), tensor([1, 0, 1, 0, 0, 1, 0, 0]), tensor([1, 0, 1, 0, 0, 1, 0, 0]), tensor([1, 0, 1, 0, 0, 1, 0, 0]), tensor([1, 0, 1, 0, 0, 1, 0, 0]), tensor([1, 0, 1, 0, 0, 1, 0, 0]), tensor([1, 0, 1, 0, 0, 1, 0, 0]), tensor([1, 0, 1, 0, 0, 1, 0, 0]), tensor([1, 0, 1, 0, 0, 1, 0, 0]), tensor([1, 0, 1, 0, 0, 1, 0, 0]), tensor([1, 0, 1, 0, 0, 1, 0, 0]), tensor([1, 0, 1, 0, 0, 1, 0, 0]), tensor([1, 0, 1, 0, 0, 1, 0, 0]), tensor([1, 0, 1, 0, 0, 1, 0, 0]), tensor([1, 0, 1, 0, 0, 1, 0, 0]), tensor([1, 0, 1, 0, 0, 1, 0, 0]), tensor([1, 0, 1, 0, 0, 1, 0, 0]), tensor([1, 0, 1, 0, 0, 1, 0, 0]), tensor([1, 0, 1, 0, 0, 1, 0, 0]), tensor([1, 0, 1, 0, 0, 1, 0, 0]), tensor([1, 0, 1, 0, 0, 1, 0, 0]), tensor([1, 0, 1, 0, 0, 1, 0, 0]), tensor([1, 0, 1, 0, 0, 1, 0, 0]), tensor([1, 0, 1, 0, 0, 1, 0, 0]), tensor([1, 0, 1, 0, 0, 1, 0, 0]), tensor([1, 0, 1, 0, 0, 1, 0, 0]), tensor([1, 0, 1, 0, 0, 1, 0, 0]), tensor([1, 0, 1, 0, 0, 1, 0, 0]), tensor([1, 0, 1, 0, 0, 1, 0, 0]), tensor([1, 0, 1, 0, 0, 1, 0, 0]), tensor([1, 0, 1, 0, 0, 1, 0, 0]), tensor([1, 0, 1, 0, 0, 1, 0, 0]), tensor([1, 0, 1, 0, 0, 1, 0, 0]), tensor([1, 0, 1, 0, 0, 1, 0, 0]), tensor([1, 0, 1, 0, 0, 1, 0, 0]), tensor([1, 0, 1, 0, 0, 1, 0, 0]), tensor([1, 0, 1, 0, 0, 1, 0, 0]), tensor([1, 0, 1, 0, 0, 1, 0, 0]), tensor([1, 0, 1, 0, 0, 1, 0, 0]), tensor([1, 0, 1, 0, 0, 1, 0, 0]), tensor([1, 0, 1, 0, 0, 1, 0, 0]), tensor([1, 0, 1, 0, 0, 1, 0, 0]), tensor([1, 0, 1, 0, 0, 1, 0, 0]), tensor([1, 0, 1, 0, 0, 1, 0, 0]), tensor([1, 0, 1, 0, 0, 1, 0, 0]), tensor([1, 0, 1, 0, 0, 1, 0, 0]), tensor([1, 0, 1, 0, 0, 1, 0, 0]), tensor([1, 0, 1, 0, 0, 1, 0, 0]), tensor([1, 0, 1, 0, 0, 1, 0, 0]), tensor([1, 0, 1, 0, 0, 1, 0, 0]), tensor([1, 0, 1, 0, 0, 1, 0, 0]), tensor([1, 0, 1, 0, 0, 1, 0, 0]), tensor([1, 0, 1, 0, 0, 1, 0, 0]), tensor([1, 0, 1, 0, 0, 1, 0, 0]), tensor([1, 0, 1, 0, 0, 1, 0, 0]), tensor([1, 0, 1, 0, 0, 1, 0, 0]), tensor([1, 0, 1, 0, 0, 1, 0, 0]), tensor([1, 0, 1, 0, 0, 1, 0, 0]), tensor([1, 0, 1, 0, 0, 1, 0, 0]), tensor([1, 0, 1, 0, 0, 1, 0, 0]), tensor([1, 0, 1, 0, 0, 1, 0, 0]), tensor([1, 0, 1, 0, 0, 1, 0, 0]), tensor([1, 0, 1, 0, 0, 1, 0, 0]), tensor([1, 0, 1, 0, 0, 1, 0, 0]), tensor([1, 0, 1, 0, 0, 1, 0, 0]), tensor([1, 0, 1, 0, 0, 1, 0, 0]), tensor([1, 0, 1, 0, 0, 1, 0, 0]), tensor([1, 0, 1, 0, 0, 1, 0, 0]), tensor([1, 0, 1, 0, 0, 1, 0, 0]), tensor([1, 0, 1, 0, 0, 1, 0, 0]), tensor([1, 0, 1, 0, 0, 1, 0, 0]), tensor([1, 0, 1, 0, 0, 1, 0, 0]), tensor([1, 0, 1, 0, 0, 1, 0, 0]), tensor([1, 0, 1, 0, 0, 1, 0, 0]), tensor([1, 0, 1, 0, 0, 1, 0, 0]), tensor([1, 0, 1, 0, 0, 1, 0, 0]), tensor([1, 0, 1, 0, 0, 1, 0, 0]), tensor([1, 0, 1, 0, 0, 1, 0, 0]), tensor([1, 0, 1, 0, 0, 1, 0, 0]), tensor([1, 0, 1, 0, 0, 1, 0, 0]), tensor([1, 0, 1, 0, 0, 1, 0, 0]), tensor([1, 0, 1, 0, 0, 1, 0, 0]), tensor([1, 0, 1, 0, 0, 1, 0, 0]), tensor([1, 0, 1, 0, 0, 1, 0, 0]), tensor([1, 0, 1, 0, 0, 1, 0, 0]), tensor([1, 0, 1, 0, 0, 1, 0, 0]), tensor([1, 0, 1, 0, 0, 1, 0, 0]), tensor([1, 0, 1, 0, 0, 1, 0, 0]), tensor([1, 0, 1, 0, 0, 1, 0, 0]), tensor([1, 0, 1, 0, 0, 1, 0, 0]), tensor([1, 0, 1, 0, 0, 1, 0, 0]), tensor([1, 0, 1, 0, 0, 1, 0, 0]), tensor([1, 0, 1, 0, 0, 1, 0, 0]), tensor([1, 0, 1, 0, 0, 1, 0, 0]), tensor([1, 0, 1, 0, 0, 1, 0, 0]), tensor([1, 0, 1, 0, 0, 1, 0, 0]), tensor([1, 0, 1, 0, 0, 1, 0, 0]), tensor([1, 0, 1, 0, 0, 1, 0, 0]), tensor([1, 0, 1, 0, 0, 1, 0, 0]), tensor([1, 0, 0, 0, 0, 1, 0, 0]), tensor([1, 0, 0, 0, 0, 1, 0, 0]), tensor([1, 0, 0, 0, 0, 1, 0, 0]), tensor([1, 0, 0, 0, 0, 1, 0, 0]), tensor([1, 0, 0, 0, 0, 1, 0, 0]), tensor([1, 0, 0, 0, 0, 1, 0, 0]), tensor([1, 0, 0, 0, 0, 1, 0, 0]), tensor([1, 0, 0, 0, 0, 1, 0, 0]), tensor([1, 0, 0, 0, 0, 1, 0, 0]), tensor([1, 0, 0, 0, 0, 1, 0, 0]), tensor([1, 0, 0, 0, 0, 1, 0, 0]), tensor([1, 0, 0, 0, 0, 1, 0, 0]), tensor([1, 0, 0, 0, 0, 1, 0, 0]), tensor([1, 0, 0, 0, 0, 1, 0, 0]), tensor([1, 0, 0, 0, 0, 1, 0, 0]), tensor([1, 0, 0, 0, 0, 1, 0, 0]), tensor([1, 0, 0, 0, 0, 1, 0, 0]), tensor([1, 0, 0, 0, 0, 1, 0, 0]), tensor([1, 0, 0, 0, 0, 1, 0, 0]), tensor([1, 0, 0, 0, 0, 1, 0, 0]), tensor([1, 0, 0, 0, 0, 1, 0, 0]), tensor([1, 0, 0, 0, 0, 1, 0, 0]), tensor([1, 0, 0, 0, 0, 1, 0, 0]), tensor([1, 0, 0, 0, 0, 1, 0, 0]), tensor([1, 0, 0, 0, 0, 1, 0, 0]), tensor([1, 0, 0, 0, 0, 1, 0, 0]), tensor([1, 0, 0, 0, 0, 1, 0, 0]), tensor([1, 0, 0, 0, 0, 1, 0, 0]), tensor([1, 0, 0, 0, 0, 1, 0, 0]), tensor([1, 0, 0, 0, 0, 1, 0, 0]), tensor([1, 0, 0, 0, 0, 1, 0, 0]), tensor([1, 0, 0, 0, 0, 1, 0, 0]), tensor([1, 0, 0, 0, 0, 1, 0, 0]), tensor([1, 0, 0, 0, 0, 1, 0, 0]), tensor([1, 0, 0, 0, 0, 1, 0, 0]), tensor([1, 0, 0, 0, 0, 1, 0, 0]), tensor([1, 0, 0, 0, 0, 1, 0, 0]), tensor([1, 0, 0, 0, 0, 1, 0, 0]), tensor([1, 0, 0, 0, 0, 1, 0, 0]), tensor([1, 0, 0, 0, 0, 1, 0, 0]), tensor([1, 0, 0, 0, 0, 1, 0, 0]), tensor([1, 0, 0, 0, 0, 1, 0, 0]), tensor([1, 0, 0, 0, 0, 1, 0, 0]), tensor([1, 0, 0, 0, 0, 1, 0, 0]), tensor([1, 0, 0, 0, 0, 1, 0, 0]), tensor([1, 0, 0, 0, 0, 1, 0, 0]), tensor([1, 0, 0, 0, 0, 1, 0, 0]), tensor([1, 0, 0, 0, 0, 1, 0, 0]), tensor([1, 0, 0, 0, 0, 1, 0, 0]), tensor([1, 0, 0, 0, 0, 1, 0, 0]), tensor([1, 0, 0, 0, 0, 1, 0, 0]), tensor([1, 0, 0, 0, 0, 1, 0, 0]), tensor([1, 0, 0, 0, 0, 1, 0, 0]), tensor([1, 0, 0, 0, 0, 1, 0, 0]), tensor([1, 0, 0, 0, 0, 1, 0, 0]), tensor([1, 0, 0, 0, 0, 1, 0, 0]), tensor([1, 0, 0, 0, 0, 1, 0, 0]), tensor([1, 0, 0, 0, 0, 1, 0, 0]), tensor([1, 0, 0, 0, 0, 1, 0, 0]), tensor([1, 0, 0, 0, 0, 1, 0, 0]), tensor([1, 0, 0, 0, 0, 1, 0, 0]), tensor([1, 0, 0, 0, 0, 1, 0, 0]), tensor([1, 0, 0, 0, 0, 1, 0, 0]), tensor([1, 0, 0, 0, 0, 1, 0, 0]), tensor([1, 0, 0, 0, 0, 1, 0, 0]), tensor([1, 0, 0, 0, 0, 1, 0, 0]), tensor([1, 0, 0, 0, 0, 1, 0, 0]), tensor([1, 0, 0, 0, 0, 1, 0, 0]), tensor([1, 0, 0, 0, 0, 1, 0, 0]), tensor([1, 0, 0, 0, 0, 1, 0, 0]), tensor([1, 0, 0, 0, 0, 1, 0, 0]), tensor([1, 0, 0, 0, 0, 1, 0, 0]), tensor([1, 0, 0, 0, 0, 1, 0, 0]), tensor([1, 0, 0, 0, 0, 1, 0, 0]), tensor([1, 0, 0, 0, 0, 1, 0, 0]), tensor([1, 0, 0, 0, 0, 1, 0, 0]), tensor([1, 0, 0, 0, 0, 1, 0, 0]), tensor([1, 0, 0, 0, 0, 1, 0, 0]), tensor([1, 0, 0, 0, 0, 1, 0, 0]), tensor([1, 0, 0, 0, 0, 1, 0, 0]), tensor([1, 0, 0, 0, 0, 1, 0, 0]), tensor([1, 0, 0, 0, 0, 1, 0, 0]), tensor([1, 0, 0, 0, 0, 1, 0, 0]), tensor([1, 0, 0, 0, 0, 1, 0, 0]), tensor([1, 0, 0, 0, 0, 1, 0, 0]), tensor([1, 0, 0, 0, 0, 1, 0, 0]), tensor([1, 0, 0, 0, 0, 1, 0, 0]), tensor([1, 0, 0, 0, 0, 1, 0, 0]), tensor([1, 0, 0, 0, 0, 1, 0, 0]), tensor([1, 0, 0, 0, 0, 1, 0, 0]), tensor([1, 0, 0, 0, 0, 1, 0, 0]), tensor([1, 0, 0, 0, 0, 1, 0, 0]), tensor([1, 0, 0, 0, 0, 1, 0, 0]), tensor([1, 0, 0, 0, 0, 1, 0, 0]), tensor([1, 0, 0, 0, 0, 1, 0, 0]), tensor([1, 0, 0, 0, 0, 1, 0, 0]), tensor([1, 0, 0, 0, 0, 1, 0, 0]), tensor([1, 0, 0, 0, 0, 1, 0, 0]), tensor([1, 0, 0, 0, 0, 1, 0, 0]), tensor([1, 0, 0, 0, 0, 1, 0, 0]), tensor([1, 0, 0, 0, 0, 1, 0, 0]), tensor([1, 0, 0, 0, 0, 1, 0, 0]), tensor([1, 0, 0, 0, 0, 1, 0, 0]), tensor([1, 0, 0, 0, 0, 1, 0, 0]), tensor([1, 0, 0, 0, 0, 1, 0, 0]), tensor([1, 0, 0, 0, 0, 1, 0, 0]), tensor([1, 0, 0, 0, 0, 1, 0, 0]), tensor([1, 0, 0, 0, 0, 1, 0, 0]), tensor([1, 0, 0, 0, 0, 1, 0, 0]), tensor([1, 0, 0, 0, 0, 1, 0, 0]), tensor([1, 0, 0, 0, 0, 1, 0, 0]), tensor([1, 0, 0, 0, 0, 1, 0, 0]), tensor([1, 0, 0, 0, 0, 1, 0, 0]), tensor([1, 0, 0, 0, 0, 1, 0, 0]), tensor([1, 0, 0, 0, 0, 1, 0, 0]), tensor([1, 0, 0, 0, 0, 1, 0, 0]), tensor([1, 0, 0, 0, 0, 1, 0, 0]), tensor([1, 0, 0, 0, 0, 1, 0, 0]), tensor([1, 0, 0, 0, 0, 1, 0, 0]), tensor([1, 0, 0, 0, 0, 1, 0, 0]), tensor([1, 0, 0, 0, 0, 1, 0, 0]), tensor([1, 0, 0, 0, 0, 1, 0, 0]), tensor([1, 0, 0, 0, 0, 1, 0, 0]), tensor([1, 0, 0, 0, 0, 1, 0, 0]), tensor([1, 0, 0, 0, 0, 1, 0, 0]), tensor([1, 0, 0, 0, 0, 1, 0, 0]), tensor([1, 0, 0, 0, 0, 1, 0, 0]), tensor([1, 0, 0, 0, 0, 1, 0, 0]), tensor([1, 0, 0, 0, 0, 1, 0, 0]), tensor([1, 0, 0, 0, 0, 1, 0, 0]), tensor([1, 0, 0, 0, 0, 1, 0, 0]), tensor([1, 0, 0, 0, 0, 1, 0, 0]), tensor([1, 0, 0, 0, 0, 1, 0, 0]), tensor([1, 0, 0, 0, 0, 1, 0, 0]), tensor([1, 0, 0, 0, 0, 1, 0, 0]), tensor([1, 0, 0, 0, 0, 1, 0, 0]), tensor([1, 0, 0, 0, 0, 1, 0, 0]), tensor([1, 0, 0, 0, 0, 1, 0, 0]), tensor([1, 0, 0, 0, 0, 1, 0, 0]), tensor([1, 0, 0, 0, 0, 1, 0, 0]), tensor([1, 0, 0, 0, 0, 1, 0, 0]), tensor([1, 0, 0, 0, 0, 1, 0, 0]), tensor([1, 0, 0, 0, 0, 1, 0, 0]), tensor([1, 0, 0, 0, 0, 1, 0, 0]), tensor([1, 0, 0, 0, 0, 1, 0, 0]), tensor([1, 0, 0, 0, 0, 1, 0, 0]), tensor([1, 0, 0, 0, 0, 1, 0, 0]), tensor([1, 0, 0, 0, 0, 1, 0, 0]), tensor([1, 0, 0, 0, 0, 1, 0, 0]), tensor([1, 0, 0, 0, 0, 1, 0, 0]), tensor([1, 0, 0, 0, 0, 1, 0, 0]), tensor([1, 0, 0, 0, 0, 1, 0, 0]), tensor([1, 0, 0, 0, 0, 1, 0, 0]), tensor([1, 0, 0, 0, 0, 1, 0, 0]), tensor([1, 0, 0, 0, 0, 1, 0, 0]), tensor([1, 0, 0, 0, 0, 1, 0, 0]), tensor([1, 0, 0, 0, 0, 1, 0, 0]), tensor([1, 0, 0, 0, 0, 1, 0, 0]), tensor([1, 0, 0, 0, 0, 1, 0, 0]), tensor([1, 0, 0, 0, 0, 1, 0, 0]), tensor([1, 0, 0, 0, 0, 1, 0, 0]), tensor([1, 0, 0, 0, 0, 1, 0, 0]), tensor([1, 0, 0, 0, 0, 1, 0, 0]), tensor([1, 0, 0, 0, 0, 1, 0, 0]), tensor([1, 0, 0, 0, 0, 1, 0, 0]), tensor([1, 0, 0, 0, 0, 1, 0, 0]), tensor([1, 0, 0, 0, 0, 1, 0, 0]), tensor([1, 0, 0, 0, 0, 1, 0, 0]), tensor([1, 0, 0, 0, 0, 1, 0, 0]), tensor([1, 0, 0, 0, 0, 1, 0, 0]), tensor([1, 0, 0, 0, 0, 1, 0, 0]), tensor([1, 0, 0, 0, 0, 1, 0, 0]), tensor([1, 0, 0, 0, 0, 1, 0, 0]), tensor([1, 0, 0, 0, 0, 1, 0, 0]), tensor([1, 0, 0, 0, 0, 1, 0, 0]), tensor([1, 0, 0, 0, 0, 1, 0, 0]), tensor([1, 0, 0, 0, 0, 1, 0, 0]), tensor([1, 0, 0, 0, 0, 1, 0, 0]), tensor([1, 0, 0, 0, 0, 1, 0, 0]), tensor([1, 0, 0, 0, 0, 1, 0, 0]), tensor([1, 0, 0, 0, 0, 1, 0, 0]), tensor([1, 0, 0, 0, 0, 1, 0, 0]), tensor([1, 0, 0, 0, 0, 1, 0, 0]), tensor([1, 0, 0, 0, 0, 1, 0, 0]), tensor([1, 0, 0, 0, 0, 1, 0, 0]), tensor([1, 0, 0, 0, 0, 1, 0, 0]), tensor([1, 0, 0, 0, 0, 1, 0, 0]), tensor([1, 0, 0, 0, 0, 1, 0, 0]), tensor([1, 0, 0, 0, 0, 1, 0, 0]), tensor([1, 0, 0, 0, 0, 1, 0, 0]), tensor([1, 0, 0, 0, 0, 1, 0, 0]), tensor([1, 0, 0, 0, 0, 1, 0, 0])])])"
            ]
          },
          "execution_count": 14,
          "metadata": {},
          "output_type": "execute_result"
        }
      ],
      "source": [
        "batch.items()"
      ]
    },
    {
      "cell_type": "code",
      "execution_count": 13,
      "metadata": {
        "id": "RwS8mObcmIsq"
      },
      "outputs": [
        {
          "name": "stderr",
          "output_type": "stream",
          "text": [
            "  0%|          | 0/375 [00:00<?, ?it/s]"
          ]
        },
        {
          "data": {
            "text/html": [
              "<pre style=\"white-space:pre;overflow-x:auto;line-height:normal;font-family:Menlo,'DejaVu Sans Mono',consolas,'Courier New',monospace\"><span style=\"color: #800000; text-decoration-color: #800000\">╭─────────────────────────────── </span><span style=\"color: #800000; text-decoration-color: #800000; font-weight: bold\">Traceback </span><span style=\"color: #bf7f7f; text-decoration-color: #bf7f7f; font-weight: bold\">(most recent call last)</span><span style=\"color: #800000; text-decoration-color: #800000\"> ────────────────────────────────╮</span>\n",
              "<span style=\"color: #800000; text-decoration-color: #800000\">│</span> in <span style=\"color: #00ff00; text-decoration-color: #00ff00\">&lt;module&gt;</span>:<span style=\"color: #0000ff; text-decoration-color: #0000ff\">8</span>                                                                                    <span style=\"color: #800000; text-decoration-color: #800000\">│</span>\n",
              "<span style=\"color: #800000; text-decoration-color: #800000\">│</span>                                                                                                  <span style=\"color: #800000; text-decoration-color: #800000\">│</span>\n",
              "<span style=\"color: #800000; text-decoration-color: #800000\">│</span>   <span style=\"color: #7f7f7f; text-decoration-color: #7f7f7f\"> 5 </span>model.train()                                                                               <span style=\"color: #800000; text-decoration-color: #800000\">│</span>\n",
              "<span style=\"color: #800000; text-decoration-color: #800000\">│</span>   <span style=\"color: #7f7f7f; text-decoration-color: #7f7f7f\"> 6 </span><span style=\"color: #0000ff; text-decoration-color: #0000ff\">for</span> epoch <span style=\"color: #ff00ff; text-decoration-color: #ff00ff\">in</span> <span style=\"color: #00ffff; text-decoration-color: #00ffff\">range</span>(num_epochs):                                                             <span style=\"color: #800000; text-decoration-color: #800000\">│</span>\n",
              "<span style=\"color: #800000; text-decoration-color: #800000\">│</span>   <span style=\"color: #7f7f7f; text-decoration-color: #7f7f7f\"> 7 </span><span style=\"color: #7f7f7f; text-decoration-color: #7f7f7f\">│   </span><span style=\"color: #0000ff; text-decoration-color: #0000ff\">for</span> batch <span style=\"color: #ff00ff; text-decoration-color: #ff00ff\">in</span> train_dataloader:                                                          <span style=\"color: #800000; text-decoration-color: #800000\">│</span>\n",
              "<span style=\"color: #800000; text-decoration-color: #800000\">│</span> <span style=\"color: #800000; text-decoration-color: #800000\">❱ </span> 8 <span style=\"color: #7f7f7f; text-decoration-color: #7f7f7f\">│   │   </span>batch = {k: v.to(device) <span style=\"color: #0000ff; text-decoration-color: #0000ff\">for</span> k, v <span style=\"color: #ff00ff; text-decoration-color: #ff00ff\">in</span> batch.items()}                                 <span style=\"color: #800000; text-decoration-color: #800000\">│</span>\n",
              "<span style=\"color: #800000; text-decoration-color: #800000\">│</span>   <span style=\"color: #7f7f7f; text-decoration-color: #7f7f7f\"> 9 </span><span style=\"color: #7f7f7f; text-decoration-color: #7f7f7f\">│   │   </span>outputs = model(**batch)                                                            <span style=\"color: #800000; text-decoration-color: #800000\">│</span>\n",
              "<span style=\"color: #800000; text-decoration-color: #800000\">│</span>   <span style=\"color: #7f7f7f; text-decoration-color: #7f7f7f\">10 </span><span style=\"color: #7f7f7f; text-decoration-color: #7f7f7f\">│   │   </span>loss = outputs.loss                                                                 <span style=\"color: #800000; text-decoration-color: #800000\">│</span>\n",
              "<span style=\"color: #800000; text-decoration-color: #800000\">│</span>   <span style=\"color: #7f7f7f; text-decoration-color: #7f7f7f\">11 </span><span style=\"color: #7f7f7f; text-decoration-color: #7f7f7f\">│   │   </span>loss.backward()                                                                     <span style=\"color: #800000; text-decoration-color: #800000\">│</span>\n",
              "<span style=\"color: #800000; text-decoration-color: #800000\">│</span>                                                                                                  <span style=\"color: #800000; text-decoration-color: #800000\">│</span>\n",
              "<span style=\"color: #800000; text-decoration-color: #800000\">│</span> in <span style=\"color: #00ff00; text-decoration-color: #00ff00\">&lt;dictcomp&gt;</span>:<span style=\"color: #0000ff; text-decoration-color: #0000ff\">8</span>                                                                                  <span style=\"color: #800000; text-decoration-color: #800000\">│</span>\n",
              "<span style=\"color: #800000; text-decoration-color: #800000\">│</span>                                                                                                  <span style=\"color: #800000; text-decoration-color: #800000\">│</span>\n",
              "<span style=\"color: #800000; text-decoration-color: #800000\">│</span>   <span style=\"color: #7f7f7f; text-decoration-color: #7f7f7f\"> 5 </span>model.train()                                                                               <span style=\"color: #800000; text-decoration-color: #800000\">│</span>\n",
              "<span style=\"color: #800000; text-decoration-color: #800000\">│</span>   <span style=\"color: #7f7f7f; text-decoration-color: #7f7f7f\"> 6 </span><span style=\"color: #0000ff; text-decoration-color: #0000ff\">for</span> epoch <span style=\"color: #ff00ff; text-decoration-color: #ff00ff\">in</span> <span style=\"color: #00ffff; text-decoration-color: #00ffff\">range</span>(num_epochs):                                                             <span style=\"color: #800000; text-decoration-color: #800000\">│</span>\n",
              "<span style=\"color: #800000; text-decoration-color: #800000\">│</span>   <span style=\"color: #7f7f7f; text-decoration-color: #7f7f7f\"> 7 </span><span style=\"color: #7f7f7f; text-decoration-color: #7f7f7f\">│   </span><span style=\"color: #0000ff; text-decoration-color: #0000ff\">for</span> batch <span style=\"color: #ff00ff; text-decoration-color: #ff00ff\">in</span> train_dataloader:                                                          <span style=\"color: #800000; text-decoration-color: #800000\">│</span>\n",
              "<span style=\"color: #800000; text-decoration-color: #800000\">│</span> <span style=\"color: #800000; text-decoration-color: #800000\">❱ </span> 8 <span style=\"color: #7f7f7f; text-decoration-color: #7f7f7f\">│   │   </span>batch = {k: v.to(device) <span style=\"color: #0000ff; text-decoration-color: #0000ff\">for</span> k, v <span style=\"color: #ff00ff; text-decoration-color: #ff00ff\">in</span> batch.items()}                                 <span style=\"color: #800000; text-decoration-color: #800000\">│</span>\n",
              "<span style=\"color: #800000; text-decoration-color: #800000\">│</span>   <span style=\"color: #7f7f7f; text-decoration-color: #7f7f7f\"> 9 </span><span style=\"color: #7f7f7f; text-decoration-color: #7f7f7f\">│   │   </span>outputs = model(**batch)                                                            <span style=\"color: #800000; text-decoration-color: #800000\">│</span>\n",
              "<span style=\"color: #800000; text-decoration-color: #800000\">│</span>   <span style=\"color: #7f7f7f; text-decoration-color: #7f7f7f\">10 </span><span style=\"color: #7f7f7f; text-decoration-color: #7f7f7f\">│   │   </span>loss = outputs.loss                                                                 <span style=\"color: #800000; text-decoration-color: #800000\">│</span>\n",
              "<span style=\"color: #800000; text-decoration-color: #800000\">│</span>   <span style=\"color: #7f7f7f; text-decoration-color: #7f7f7f\">11 </span><span style=\"color: #7f7f7f; text-decoration-color: #7f7f7f\">│   │   </span>loss.backward()                                                                     <span style=\"color: #800000; text-decoration-color: #800000\">│</span>\n",
              "<span style=\"color: #800000; text-decoration-color: #800000\">╰──────────────────────────────────────────────────────────────────────────────────────────────────╯</span>\n",
              "<span style=\"color: #ff0000; text-decoration-color: #ff0000; font-weight: bold\">AttributeError: </span><span style=\"color: #008000; text-decoration-color: #008000\">'list'</span> object has no attribute <span style=\"color: #008000; text-decoration-color: #008000\">'to'</span>\n",
              "</pre>\n"
            ],
            "text/plain": [
              "\u001b[31m╭─\u001b[0m\u001b[31m──────────────────────────────\u001b[0m\u001b[31m \u001b[0m\u001b[1;31mTraceback \u001b[0m\u001b[1;2;31m(most recent call last)\u001b[0m\u001b[31m \u001b[0m\u001b[31m───────────────────────────────\u001b[0m\u001b[31m─╮\u001b[0m\n",
              "\u001b[31m│\u001b[0m in \u001b[92m<module>\u001b[0m:\u001b[94m8\u001b[0m                                                                                    \u001b[31m│\u001b[0m\n",
              "\u001b[31m│\u001b[0m                                                                                                  \u001b[31m│\u001b[0m\n",
              "\u001b[31m│\u001b[0m   \u001b[2m 5 \u001b[0mmodel.train()                                                                               \u001b[31m│\u001b[0m\n",
              "\u001b[31m│\u001b[0m   \u001b[2m 6 \u001b[0m\u001b[94mfor\u001b[0m epoch \u001b[95min\u001b[0m \u001b[96mrange\u001b[0m(num_epochs):                                                             \u001b[31m│\u001b[0m\n",
              "\u001b[31m│\u001b[0m   \u001b[2m 7 \u001b[0m\u001b[2m│   \u001b[0m\u001b[94mfor\u001b[0m batch \u001b[95min\u001b[0m train_dataloader:                                                          \u001b[31m│\u001b[0m\n",
              "\u001b[31m│\u001b[0m \u001b[31m❱ \u001b[0m 8 \u001b[2m│   │   \u001b[0mbatch = {k: v.to(device) \u001b[94mfor\u001b[0m k, v \u001b[95min\u001b[0m batch.items()}                                 \u001b[31m│\u001b[0m\n",
              "\u001b[31m│\u001b[0m   \u001b[2m 9 \u001b[0m\u001b[2m│   │   \u001b[0moutputs = model(**batch)                                                            \u001b[31m│\u001b[0m\n",
              "\u001b[31m│\u001b[0m   \u001b[2m10 \u001b[0m\u001b[2m│   │   \u001b[0mloss = outputs.loss                                                                 \u001b[31m│\u001b[0m\n",
              "\u001b[31m│\u001b[0m   \u001b[2m11 \u001b[0m\u001b[2m│   │   \u001b[0mloss.backward()                                                                     \u001b[31m│\u001b[0m\n",
              "\u001b[31m│\u001b[0m                                                                                                  \u001b[31m│\u001b[0m\n",
              "\u001b[31m│\u001b[0m in \u001b[92m<dictcomp>\u001b[0m:\u001b[94m8\u001b[0m                                                                                  \u001b[31m│\u001b[0m\n",
              "\u001b[31m│\u001b[0m                                                                                                  \u001b[31m│\u001b[0m\n",
              "\u001b[31m│\u001b[0m   \u001b[2m 5 \u001b[0mmodel.train()                                                                               \u001b[31m│\u001b[0m\n",
              "\u001b[31m│\u001b[0m   \u001b[2m 6 \u001b[0m\u001b[94mfor\u001b[0m epoch \u001b[95min\u001b[0m \u001b[96mrange\u001b[0m(num_epochs):                                                             \u001b[31m│\u001b[0m\n",
              "\u001b[31m│\u001b[0m   \u001b[2m 7 \u001b[0m\u001b[2m│   \u001b[0m\u001b[94mfor\u001b[0m batch \u001b[95min\u001b[0m train_dataloader:                                                          \u001b[31m│\u001b[0m\n",
              "\u001b[31m│\u001b[0m \u001b[31m❱ \u001b[0m 8 \u001b[2m│   │   \u001b[0mbatch = {k: v.to(device) \u001b[94mfor\u001b[0m k, v \u001b[95min\u001b[0m batch.items()}                                 \u001b[31m│\u001b[0m\n",
              "\u001b[31m│\u001b[0m   \u001b[2m 9 \u001b[0m\u001b[2m│   │   \u001b[0moutputs = model(**batch)                                                            \u001b[31m│\u001b[0m\n",
              "\u001b[31m│\u001b[0m   \u001b[2m10 \u001b[0m\u001b[2m│   │   \u001b[0mloss = outputs.loss                                                                 \u001b[31m│\u001b[0m\n",
              "\u001b[31m│\u001b[0m   \u001b[2m11 \u001b[0m\u001b[2m│   │   \u001b[0mloss.backward()                                                                     \u001b[31m│\u001b[0m\n",
              "\u001b[31m╰──────────────────────────────────────────────────────────────────────────────────────────────────╯\u001b[0m\n",
              "\u001b[1;91mAttributeError: \u001b[0m\u001b[32m'list'\u001b[0m object has no attribute \u001b[32m'to'\u001b[0m\n"
            ]
          },
          "metadata": {},
          "output_type": "display_data"
        }
      ],
      "source": [
        "from tqdm.auto import tqdm\n",
        "\n",
        "progress_bar = tqdm(range(num_training_steps))\n",
        "\n",
        "model.train()\n",
        "for epoch in range(num_epochs):\n",
        "    for batch in train_dataloader:\n",
        "        batch = {k: v.to(device) for k, v in batch.items()}\n",
        "        outputs = model(**batch)\n",
        "        loss = outputs.loss\n",
        "        loss.backward()\n",
        "\n",
        "        optimizer.step()\n",
        "        lr_scheduler.step()\n",
        "        optimizer.zero_grad()\n",
        "        progress_bar.update(1)"
      ]
    },
    {
      "cell_type": "markdown",
      "metadata": {
        "id": "7RRyES4_mIsq"
      },
      "source": [
        "### Evaluate"
      ]
    },
    {
      "cell_type": "markdown",
      "metadata": {
        "id": "FvLQaKfZmIsq"
      },
      "source": [
        "Just like how you added an evaluation function to [Trainer](https://huggingface.co/docs/transformers/main/en/main_classes/trainer#transformers.Trainer), you need to do the same when you write your own training loop. But instead of calculating and reporting the metric at the end of each epoch, this time you'll accumulate all the batches with `add_batch` and calculate the metric at the very end."
      ]
    },
    {
      "cell_type": "code",
      "execution_count": null,
      "metadata": {
        "id": "PjtEmgyOmIsq"
      },
      "outputs": [],
      "source": [
        "import evaluate\n",
        "\n",
        "metric = evaluate.load(\"accuracy\")\n",
        "model.eval()\n",
        "for batch in eval_dataloader:\n",
        "    batch = {k: v.to(device) for k, v in batch.items()}\n",
        "    with torch.no_grad():\n",
        "        outputs = model(**batch)\n",
        "\n",
        "    logits = outputs.logits\n",
        "    predictions = torch.argmax(logits, dim=-1)\n",
        "    metric.add_batch(predictions=predictions, references=batch[\"labels\"])\n",
        "\n",
        "metric.compute()"
      ]
    },
    {
      "cell_type": "markdown",
      "metadata": {
        "id": "fBH7G4a1mIsq"
      },
      "source": [
        "<a id='additional-resources'></a>"
      ]
    },
    {
      "cell_type": "markdown",
      "metadata": {
        "id": "ZiCDDABWmIsq"
      },
      "source": [
        "## Additional resources"
      ]
    },
    {
      "cell_type": "markdown",
      "metadata": {
        "id": "jfw450RamIsq"
      },
      "source": [
        "For more fine-tuning examples, refer to:\n",
        "\n",
        "- [🤗 Transformers Examples](https://github.com/huggingface/transformers/tree/main/examples) includes scripts\n",
        "  to train common NLP tasks in PyTorch and TensorFlow.\n",
        "\n",
        "- [🤗 Transformers Notebooks](https://huggingface.co/docs/transformers/main/en/notebooks) contains various notebooks on how to fine-tune a model for specific tasks in PyTorch and TensorFlow."
      ]
    }
  ],
  "metadata": {
    "colab": {
      "provenance": []
    },
    "kernelspec": {
      "display_name": "ml",
      "language": "python",
      "name": "python3"
    },
    "language_info": {
      "codemirror_mode": {
        "name": "ipython",
        "version": 3
      },
      "file_extension": ".py",
      "mimetype": "text/x-python",
      "name": "python",
      "nbconvert_exporter": "python",
      "pygments_lexer": "ipython3",
      "version": "3.10.10"
    }
  },
  "nbformat": 4,
  "nbformat_minor": 0
}
